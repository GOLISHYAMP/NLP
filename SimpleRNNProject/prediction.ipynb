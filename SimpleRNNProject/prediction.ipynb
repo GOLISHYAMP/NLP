{
 "cells": [
  {
   "cell_type": "code",
   "execution_count": 1,
   "metadata": {},
   "outputs": [],
   "source": [
    "# Step 1: Import Libraries and Load the Model\n",
    "import numpy as np\n",
    "import tensorflow as tf\n",
    "from tensorflow.keras.datasets import imdb\n",
    "from tensorflow.keras.preprocessing import sequence\n",
    "from tensorflow.keras.models import load_model"
   ]
  },
  {
   "cell_type": "code",
   "execution_count": 2,
   "metadata": {},
   "outputs": [],
   "source": [
    "# Load the IMDB dataset word index\n",
    "word_index = imdb.get_word_index()\n",
    "reverse_word_index = {value: key for key, value in word_index.items()}"
   ]
  },
  {
   "cell_type": "code",
   "execution_count": 3,
   "metadata": {},
   "outputs": [
    {
     "name": "stderr",
     "output_type": "stream",
     "text": [
      "WARNING:absl:Compiled the loaded model, but the compiled metrics have yet to be built. `model.compile_metrics` will be empty until you train or evaluate the model.\n"
     ]
    },
    {
     "data": {
      "text/html": [
       "<pre style=\"white-space:pre;overflow-x:auto;line-height:normal;font-family:Menlo,'DejaVu Sans Mono',consolas,'Courier New',monospace\"><span style=\"font-weight: bold\">Model: \"sequential\"</span>\n",
       "</pre>\n"
      ],
      "text/plain": [
       "\u001b[1mModel: \"sequential\"\u001b[0m\n"
      ]
     },
     "metadata": {},
     "output_type": "display_data"
    },
    {
     "data": {
      "text/html": [
       "<pre style=\"white-space:pre;overflow-x:auto;line-height:normal;font-family:Menlo,'DejaVu Sans Mono',consolas,'Courier New',monospace\">┏━━━━━━━━━━━━━━━━━━━━━━━━━━━━━━━━━┳━━━━━━━━━━━━━━━━━━━━━━━━┳━━━━━━━━━━━━━━━┓\n",
       "┃<span style=\"font-weight: bold\"> Layer (type)                    </span>┃<span style=\"font-weight: bold\"> Output Shape           </span>┃<span style=\"font-weight: bold\">       Param # </span>┃\n",
       "┡━━━━━━━━━━━━━━━━━━━━━━━━━━━━━━━━━╇━━━━━━━━━━━━━━━━━━━━━━━━╇━━━━━━━━━━━━━━━┩\n",
       "│ embedding (<span style=\"color: #0087ff; text-decoration-color: #0087ff\">Embedding</span>)           │ (<span style=\"color: #00af00; text-decoration-color: #00af00\">32</span>, <span style=\"color: #00af00; text-decoration-color: #00af00\">500</span>, <span style=\"color: #00af00; text-decoration-color: #00af00\">128</span>)         │     <span style=\"color: #00af00; text-decoration-color: #00af00\">1,280,000</span> │\n",
       "├─────────────────────────────────┼────────────────────────┼───────────────┤\n",
       "│ simple_rnn (<span style=\"color: #0087ff; text-decoration-color: #0087ff\">SimpleRNN</span>)          │ (<span style=\"color: #00af00; text-decoration-color: #00af00\">32</span>, <span style=\"color: #00af00; text-decoration-color: #00af00\">128</span>)              │        <span style=\"color: #00af00; text-decoration-color: #00af00\">32,896</span> │\n",
       "├─────────────────────────────────┼────────────────────────┼───────────────┤\n",
       "│ dense (<span style=\"color: #0087ff; text-decoration-color: #0087ff\">Dense</span>)                   │ (<span style=\"color: #00af00; text-decoration-color: #00af00\">32</span>, <span style=\"color: #00af00; text-decoration-color: #00af00\">1</span>)                │           <span style=\"color: #00af00; text-decoration-color: #00af00\">129</span> │\n",
       "└─────────────────────────────────┴────────────────────────┴───────────────┘\n",
       "</pre>\n"
      ],
      "text/plain": [
       "┏━━━━━━━━━━━━━━━━━━━━━━━━━━━━━━━━━┳━━━━━━━━━━━━━━━━━━━━━━━━┳━━━━━━━━━━━━━━━┓\n",
       "┃\u001b[1m \u001b[0m\u001b[1mLayer (type)                   \u001b[0m\u001b[1m \u001b[0m┃\u001b[1m \u001b[0m\u001b[1mOutput Shape          \u001b[0m\u001b[1m \u001b[0m┃\u001b[1m \u001b[0m\u001b[1m      Param #\u001b[0m\u001b[1m \u001b[0m┃\n",
       "┡━━━━━━━━━━━━━━━━━━━━━━━━━━━━━━━━━╇━━━━━━━━━━━━━━━━━━━━━━━━╇━━━━━━━━━━━━━━━┩\n",
       "│ embedding (\u001b[38;5;33mEmbedding\u001b[0m)           │ (\u001b[38;5;34m32\u001b[0m, \u001b[38;5;34m500\u001b[0m, \u001b[38;5;34m128\u001b[0m)         │     \u001b[38;5;34m1,280,000\u001b[0m │\n",
       "├─────────────────────────────────┼────────────────────────┼───────────────┤\n",
       "│ simple_rnn (\u001b[38;5;33mSimpleRNN\u001b[0m)          │ (\u001b[38;5;34m32\u001b[0m, \u001b[38;5;34m128\u001b[0m)              │        \u001b[38;5;34m32,896\u001b[0m │\n",
       "├─────────────────────────────────┼────────────────────────┼───────────────┤\n",
       "│ dense (\u001b[38;5;33mDense\u001b[0m)                   │ (\u001b[38;5;34m32\u001b[0m, \u001b[38;5;34m1\u001b[0m)                │           \u001b[38;5;34m129\u001b[0m │\n",
       "└─────────────────────────────────┴────────────────────────┴───────────────┘\n"
      ]
     },
     "metadata": {},
     "output_type": "display_data"
    },
    {
     "data": {
      "text/html": [
       "<pre style=\"white-space:pre;overflow-x:auto;line-height:normal;font-family:Menlo,'DejaVu Sans Mono',consolas,'Courier New',monospace\"><span style=\"font-weight: bold\"> Total params: </span><span style=\"color: #00af00; text-decoration-color: #00af00\">1,313,027</span> (5.01 MB)\n",
       "</pre>\n"
      ],
      "text/plain": [
       "\u001b[1m Total params: \u001b[0m\u001b[38;5;34m1,313,027\u001b[0m (5.01 MB)\n"
      ]
     },
     "metadata": {},
     "output_type": "display_data"
    },
    {
     "data": {
      "text/html": [
       "<pre style=\"white-space:pre;overflow-x:auto;line-height:normal;font-family:Menlo,'DejaVu Sans Mono',consolas,'Courier New',monospace\"><span style=\"font-weight: bold\"> Trainable params: </span><span style=\"color: #00af00; text-decoration-color: #00af00\">1,313,025</span> (5.01 MB)\n",
       "</pre>\n"
      ],
      "text/plain": [
       "\u001b[1m Trainable params: \u001b[0m\u001b[38;5;34m1,313,025\u001b[0m (5.01 MB)\n"
      ]
     },
     "metadata": {},
     "output_type": "display_data"
    },
    {
     "data": {
      "text/html": [
       "<pre style=\"white-space:pre;overflow-x:auto;line-height:normal;font-family:Menlo,'DejaVu Sans Mono',consolas,'Courier New',monospace\"><span style=\"font-weight: bold\"> Non-trainable params: </span><span style=\"color: #00af00; text-decoration-color: #00af00\">0</span> (0.00 B)\n",
       "</pre>\n"
      ],
      "text/plain": [
       "\u001b[1m Non-trainable params: \u001b[0m\u001b[38;5;34m0\u001b[0m (0.00 B)\n"
      ]
     },
     "metadata": {},
     "output_type": "display_data"
    },
    {
     "data": {
      "text/html": [
       "<pre style=\"white-space:pre;overflow-x:auto;line-height:normal;font-family:Menlo,'DejaVu Sans Mono',consolas,'Courier New',monospace\"><span style=\"font-weight: bold\"> Optimizer params: </span><span style=\"color: #00af00; text-decoration-color: #00af00\">2</span> (12.00 B)\n",
       "</pre>\n"
      ],
      "text/plain": [
       "\u001b[1m Optimizer params: \u001b[0m\u001b[38;5;34m2\u001b[0m (12.00 B)\n"
      ]
     },
     "metadata": {},
     "output_type": "display_data"
    }
   ],
   "source": [
    "# Load the pre-trained model with ReLU activation\n",
    "model = load_model('simple_rnn_imdb.h5')\n",
    "model.summary()"
   ]
  },
  {
   "cell_type": "code",
   "execution_count": 4,
   "metadata": {},
   "outputs": [
    {
     "data": {
      "text/plain": [
       "[array([[-2.5288763e-02, -1.2079174e-02,  1.6836347e-02, ...,\n",
       "          4.8105132e-02,  5.6673322e-02, -3.1413071e-02],\n",
       "        [ 2.8698064e-02,  4.2689595e-02,  2.4407869e-02, ...,\n",
       "         -1.9683400e-02,  4.6111584e-02, -5.3327225e-02],\n",
       "        [-2.2074558e-02,  3.4524988e-02,  3.0639438e-02, ...,\n",
       "         -6.4271234e-04, -2.1507571e-02, -9.3662282e-03],\n",
       "        ...,\n",
       "        [-2.8386364e-02, -7.6805600e-03, -1.6788004e-02, ...,\n",
       "         -9.9007577e-02,  7.5129159e-03,  4.4077996e-02],\n",
       "        [ 1.1130210e-02,  2.9178545e-02, -5.2547950e-02, ...,\n",
       "         -1.4000897e-02,  7.4488809e-05, -4.1309381e-03],\n",
       "        [-1.0015393e-01,  5.2377179e-02,  2.3684675e-02, ...,\n",
       "         -3.0944500e-02,  5.6942862e-02, -9.1798373e-02]], dtype=float32),\n",
       " array([[ 0.11789744,  0.13712837, -0.12643611, ..., -0.1227634 ,\n",
       "         -0.01729022, -0.09300812],\n",
       "        [-0.01348337, -0.04579997, -0.04698299, ..., -0.15782002,\n",
       "         -0.15831308, -0.01864698],\n",
       "        [-0.026373  , -0.00882725, -0.0175759 , ..., -0.01052027,\n",
       "         -0.12318524,  0.10862114],\n",
       "        ...,\n",
       "        [ 0.07101264,  0.13801555,  0.05479175, ...,  0.01844755,\n",
       "         -0.11484587, -0.1170385 ],\n",
       "        [-0.08199491,  0.0930457 ,  0.01059712, ...,  0.11896615,\n",
       "         -0.01734611, -0.13653675],\n",
       "        [ 0.09789009, -0.07870914,  0.12474348, ...,  0.0877375 ,\n",
       "          0.08404896,  0.09633804]], dtype=float32),\n",
       " array([[ 0.12117685, -0.02994476,  0.02107177, ...,  0.10143891,\n",
       "         -0.0737058 ,  0.11291058],\n",
       "        [-0.1098686 ,  0.09223452,  0.02042429, ..., -0.01996397,\n",
       "          0.06711435,  0.02545389],\n",
       "        [ 0.07781962, -0.08155014,  0.00352193, ...,  0.11855742,\n",
       "         -0.1133638 , -0.11627749],\n",
       "        ...,\n",
       "        [ 0.03276549, -0.07395058, -0.09587746, ..., -0.10274337,\n",
       "          0.02264931,  0.01048652],\n",
       "        [ 0.10503583,  0.08035299, -0.04846468, ...,  0.03027707,\n",
       "          0.11401121, -0.07686739],\n",
       "        [-0.09503662, -0.06135599, -0.08750943, ...,  0.08950726,\n",
       "          0.05882905, -0.08800367]], dtype=float32),\n",
       " array([-0.00165484,  0.00358783,  0.00413595,  0.02050908, -0.00619266,\n",
       "         0.05721596,  0.00602336, -0.0136739 , -0.00507789, -0.00199305,\n",
       "         0.01236669,  0.00082287, -0.00473047,  0.01443201, -0.00312723,\n",
       "         0.00595551,  0.01338517,  0.00983393,  0.00588628, -0.03010227,\n",
       "        -0.04058465, -0.00405239,  0.01173489, -0.00410447, -0.00524474,\n",
       "        -0.01674875, -0.02589281, -0.00999802, -0.00248966, -0.0119976 ,\n",
       "        -0.01136302, -0.00269762, -0.02560059, -0.00403111, -0.02846224,\n",
       "         0.00913322, -0.00952434,  0.01720002,  0.00411128, -0.01019522,\n",
       "         0.0039523 ,  0.00551297,  0.00498999,  0.001196  , -0.01120077,\n",
       "        -0.01365142, -0.0067165 ,  0.01065521, -0.01055547, -0.01710342,\n",
       "         0.00899601, -0.01084363,  0.00015402,  0.00425201, -0.01390129,\n",
       "        -0.00982856,  0.00830669,  0.00050665, -0.02349415,  0.00333846,\n",
       "        -0.01162747,  0.01539602,  0.0148769 , -0.02092416,  0.00376263,\n",
       "        -0.02300474, -0.01736689,  0.01351641, -0.01865506, -0.02878036,\n",
       "        -0.02631105,  0.00696356, -0.01049108, -0.00104706, -0.00939935,\n",
       "        -0.00786055, -0.00165112, -0.00157084, -0.00941537, -0.01351616,\n",
       "        -0.01784795,  0.01932288, -0.00338808,  0.01579954,  0.00338056,\n",
       "         0.00877791,  0.01168505, -0.00929676, -0.01526691,  0.01823159,\n",
       "        -0.00750794, -0.00759144, -0.00432381, -0.00916974, -0.00883732,\n",
       "         0.00697497,  0.00534212, -0.02141099, -0.00981005,  0.01556455,\n",
       "        -0.01894895,  0.00045662, -0.00213896, -0.00777712, -0.01457804,\n",
       "         0.00376472,  0.04726207,  0.0220359 ,  0.01101612,  0.00902816,\n",
       "        -0.01377599,  0.01558665, -0.00221327, -0.00010488, -0.00323607,\n",
       "        -0.01146925,  0.01118981,  0.01028454, -0.02202306,  0.00196263,\n",
       "        -0.00320375,  0.00273267,  0.01921822,  0.00658234,  0.00160188,\n",
       "        -0.00995626,  0.02090638,  0.00297986], dtype=float32),\n",
       " array([[-3.09009105e-02],\n",
       "        [-1.07046068e-01],\n",
       "        [ 1.15562931e-01],\n",
       "        [-9.90377441e-02],\n",
       "        [ 1.10211164e-01],\n",
       "        [ 3.27474773e-01],\n",
       "        [-4.37373787e-01],\n",
       "        [ 1.36015087e-01],\n",
       "        [ 1.82668909e-01],\n",
       "        [ 2.21932843e-01],\n",
       "        [-2.76925378e-02],\n",
       "        [ 5.86182296e-01],\n",
       "        [ 6.36097610e-01],\n",
       "        [-7.76070058e-01],\n",
       "        [-6.23872317e-02],\n",
       "        [-3.11875224e-01],\n",
       "        [-1.27295941e-01],\n",
       "        [ 2.04579502e-01],\n",
       "        [ 6.55577183e-02],\n",
       "        [-4.71172452e-01],\n",
       "        [ 8.92936885e-02],\n",
       "        [-1.03270598e-01],\n",
       "        [-1.61565527e-01],\n",
       "        [ 1.53867230e-01],\n",
       "        [-1.17950588e-01],\n",
       "        [ 5.26023507e-02],\n",
       "        [-6.02816418e-02],\n",
       "        [-2.19232477e-02],\n",
       "        [ 7.35840499e-02],\n",
       "        [ 6.57060266e-01],\n",
       "        [ 2.03361422e-01],\n",
       "        [-1.07635528e-01],\n",
       "        [ 1.67052686e-01],\n",
       "        [-1.72336046e-02],\n",
       "        [-3.26092660e-01],\n",
       "        [-9.64928642e-02],\n",
       "        [-1.58887371e-01],\n",
       "        [-6.80229813e-02],\n",
       "        [ 1.26453847e-01],\n",
       "        [ 1.39175951e-01],\n",
       "        [ 1.83933526e-01],\n",
       "        [-1.03243915e-02],\n",
       "        [ 1.41479433e-01],\n",
       "        [ 2.16855198e-01],\n",
       "        [ 1.48708344e-01],\n",
       "        [ 3.50331888e-02],\n",
       "        [ 1.82178348e-01],\n",
       "        [-2.05845371e-01],\n",
       "        [ 1.25888795e-01],\n",
       "        [ 1.18725188e-01],\n",
       "        [-1.45876005e-01],\n",
       "        [-2.12658688e-01],\n",
       "        [ 5.39963365e-01],\n",
       "        [-1.99855253e-01],\n",
       "        [ 1.58738419e-01],\n",
       "        [-4.41833027e-02],\n",
       "        [-7.72916824e-02],\n",
       "        [ 4.81042117e-02],\n",
       "        [ 5.72511628e-02],\n",
       "        [ 1.80382803e-01],\n",
       "        [ 1.70968249e-01],\n",
       "        [ 2.13795707e-01],\n",
       "        [ 2.02545077e-01],\n",
       "        [-1.12217940e-01],\n",
       "        [-7.80690685e-02],\n",
       "        [ 3.58318947e-02],\n",
       "        [ 1.21370092e-01],\n",
       "        [-2.00394362e-01],\n",
       "        [ 4.16441768e-01],\n",
       "        [-6.70007095e-02],\n",
       "        [ 1.00319400e-01],\n",
       "        [ 8.35653022e-02],\n",
       "        [-5.75565934e-01],\n",
       "        [-1.81813374e-01],\n",
       "        [ 1.81725368e-01],\n",
       "        [-1.36635020e-01],\n",
       "        [ 6.93697155e-01],\n",
       "        [ 2.35698745e-03],\n",
       "        [ 2.31233820e-01],\n",
       "        [ 2.05113769e-01],\n",
       "        [-9.90098715e-02],\n",
       "        [ 1.37660112e-02],\n",
       "        [ 5.31427443e-01],\n",
       "        [-1.34654626e-01],\n",
       "        [-5.59296808e-04],\n",
       "        [ 1.16119288e-01],\n",
       "        [ 4.29636128e-02],\n",
       "        [-1.92992575e-02],\n",
       "        [-9.21660960e-02],\n",
       "        [-2.24134102e-01],\n",
       "        [ 1.61870196e-01],\n",
       "        [ 1.37009099e-01],\n",
       "        [-4.21613529e-02],\n",
       "        [-1.61299139e-01],\n",
       "        [-1.79732427e-01],\n",
       "        [-4.34721224e-02],\n",
       "        [ 9.47371870e-02],\n",
       "        [ 3.89927417e-01],\n",
       "        [-1.45219207e-01],\n",
       "        [-1.65128335e-01],\n",
       "        [ 3.79246354e-01],\n",
       "        [ 2.10094735e-01],\n",
       "        [ 1.22392818e-01],\n",
       "        [ 1.88084558e-01],\n",
       "        [ 3.64046842e-01],\n",
       "        [-1.91281140e-01],\n",
       "        [-2.98111498e-01],\n",
       "        [-1.75075233e-01],\n",
       "        [ 7.60050774e-01],\n",
       "        [-1.66120902e-01],\n",
       "        [-4.59280089e-02],\n",
       "        [-9.46202055e-02],\n",
       "        [ 1.62440121e-01],\n",
       "        [ 2.13903546e-01],\n",
       "        [ 2.31748670e-01],\n",
       "        [ 1.69268161e-01],\n",
       "        [ 1.63994044e-01],\n",
       "        [-3.91619168e-02],\n",
       "        [ 2.88343430e-01],\n",
       "        [-4.72726710e-02],\n",
       "        [ 8.94882679e-02],\n",
       "        [ 1.37402922e-01],\n",
       "        [-7.68748745e-02],\n",
       "        [-1.24403283e-01],\n",
       "        [-2.99467500e-02],\n",
       "        [ 1.55944243e-01],\n",
       "        [-1.64858386e-01],\n",
       "        [ 6.53782813e-03]], dtype=float32),\n",
       " array([0.44614977], dtype=float32)]"
      ]
     },
     "execution_count": 4,
     "metadata": {},
     "output_type": "execute_result"
    }
   ],
   "source": [
    "model.get_weights()"
   ]
  },
  {
   "cell_type": "code",
   "execution_count": 5,
   "metadata": {},
   "outputs": [],
   "source": [
    "# Step 2: Helper Functions\n",
    "# Function to decode reviews\n",
    "def decode_review(encoded_review):\n",
    "    return ' '.join([reverse_word_index.get(i - 3, '?') for i in encoded_review])\n",
    "\n",
    "# Function to preprocess user input\n",
    "def preprocess_text(text):\n",
    "    words = text.lower().split()\n",
    "    encoded_review = [word_index.get(word, 2) + 3 for word in words]\n",
    "    padded_review = sequence.pad_sequences([encoded_review], maxlen=500)\n",
    "    return padded_review"
   ]
  },
  {
   "cell_type": "code",
   "execution_count": 6,
   "metadata": {},
   "outputs": [],
   "source": [
    "### Prediction  function\n",
    "\n",
    "def predict_sentiment(review):\n",
    "    preprocessed_input=preprocess_text(review)\n",
    "    prediction=model.predict(preprocessed_input)\n",
    "    sentiment = 'Positive' if prediction[0][0] > 0.5 else 'Negative'\n",
    "    return sentiment, prediction[0][0]\n",
    "\n"
   ]
  },
  {
   "cell_type": "code",
   "execution_count": 9,
   "metadata": {},
   "outputs": [
    {
     "name": "stdout",
     "output_type": "stream",
     "text": [
      "\u001b[1m1/1\u001b[0m \u001b[32m━━━━━━━━━━━━━━━━━━━━\u001b[0m\u001b[37m\u001b[0m \u001b[1m0s\u001b[0m 40ms/step\n",
      "Review: This movie was fantastic! The acting was great and the plot was thrilling.\n",
      "Sentiment: Negative\n",
      "Prediction Score: 0.2431253343820572\n"
     ]
    }
   ],
   "source": [
    "# Step 4: User Input and Prediction\n",
    "# Example review for prediction\n",
    "example_review = \"This movie was fantastic! The acting was great and the plot was thrilling.\"\n",
    "\n",
    "sentiment,score=predict_sentiment(example_review)\n",
    "\n",
    "print(f'Review: {example_review}')\n",
    "print(f'Sentiment: {sentiment}')\n",
    "print(f'Prediction Score: {score}')"
   ]
  },
  {
   "cell_type": "code",
   "execution_count": 15,
   "metadata": {},
   "outputs": [
    {
     "name": "stdout",
     "output_type": "stream",
     "text": [
      "\u001b[1m1/1\u001b[0m \u001b[32m━━━━━━━━━━━━━━━━━━━━\u001b[0m\u001b[37m\u001b[0m \u001b[1m0s\u001b[0m 42ms/step\n",
      "Review: This movie is over ok, more comedy and make it much better\n",
      "Sentiment: Positive\n",
      "Prediction Score: 0.8405333757400513\n"
     ]
    }
   ],
   "source": [
    "# Step 4: User Input and Prediction\n",
    "# Example review for prediction\n",
    "example_review = \"This movie is over ok, more comedy and make it much better\"\n",
    "\n",
    "sentiment,score=predict_sentiment(example_review)\n",
    "\n",
    "print(f'Review: {example_review}')\n",
    "print(f'Sentiment: {sentiment}')\n",
    "print(f'Prediction Score: {score}')"
   ]
  },
  {
   "cell_type": "code",
   "execution_count": null,
   "metadata": {},
   "outputs": [],
   "source": []
  }
 ],
 "metadata": {
  "kernelspec": {
   "display_name": "venv",
   "language": "python",
   "name": "python3"
  },
  "language_info": {
   "codemirror_mode": {
    "name": "ipython",
    "version": 3
   },
   "file_extension": ".py",
   "mimetype": "text/x-python",
   "name": "python",
   "nbconvert_exporter": "python",
   "pygments_lexer": "ipython3",
   "version": "3.12.5"
  }
 },
 "nbformat": 4,
 "nbformat_minor": 2
}
