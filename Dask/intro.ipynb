{
 "cells": [
  {
   "cell_type": "markdown",
   "metadata": {},
   "source": [
    "### Dask Array"
   ]
  },
  {
   "cell_type": "code",
   "execution_count": 483,
   "metadata": {},
   "outputs": [
    {
     "name": "stdout",
     "output_type": "stream",
     "text": [
      "[ 0  1  2  3  4  5  6  7  8  9 10]\n",
      "((5, 5, 1),)\n"
     ]
    }
   ],
   "source": [
    "import dask.array as da    \n",
    "\n",
    "#using arange to create an array with values from 0 to 10\n",
    "X = da.arange(11, chunks=5)\n",
    "print(X.compute())\n",
    "\n",
    "#to see size of each chunk\n",
    "print(X.chunks)"
   ]
  },
  {
   "cell_type": "code",
   "execution_count": 484,
   "metadata": {},
   "outputs": [
    {
     "data": {
      "text/html": [
       "<table>\n",
       "    <tr>\n",
       "        <td>\n",
       "            <table style=\"border-collapse: collapse;\">\n",
       "                <thead>\n",
       "                    <tr>\n",
       "                        <td> </td>\n",
       "                        <th> Array </th>\n",
       "                        <th> Chunk </th>\n",
       "                    </tr>\n",
       "                </thead>\n",
       "                <tbody>\n",
       "                    \n",
       "                    <tr>\n",
       "                        <th> Bytes </th>\n",
       "                        <td> 44 B </td>\n",
       "                        <td> 20 B </td>\n",
       "                    </tr>\n",
       "                    \n",
       "                    <tr>\n",
       "                        <th> Shape </th>\n",
       "                        <td> (11,) </td>\n",
       "                        <td> (5,) </td>\n",
       "                    </tr>\n",
       "                    <tr>\n",
       "                        <th> Dask graph </th>\n",
       "                        <td colspan=\"2\"> 3 chunks in 1 graph layer </td>\n",
       "                    </tr>\n",
       "                    <tr>\n",
       "                        <th> Data type </th>\n",
       "                        <td colspan=\"2\"> int32 numpy.ndarray </td>\n",
       "                    </tr>\n",
       "                </tbody>\n",
       "            </table>\n",
       "        </td>\n",
       "        <td>\n",
       "        <svg width=\"170\" height=\"88\" style=\"stroke:rgb(0,0,0);stroke-width:1\" >\n",
       "\n",
       "  <!-- Horizontal lines -->\n",
       "  <line x1=\"0\" y1=\"0\" x2=\"120\" y2=\"0\" style=\"stroke-width:2\" />\n",
       "  <line x1=\"0\" y1=\"38\" x2=\"120\" y2=\"38\" style=\"stroke-width:2\" />\n",
       "\n",
       "  <!-- Vertical lines -->\n",
       "  <line x1=\"0\" y1=\"0\" x2=\"0\" y2=\"38\" style=\"stroke-width:2\" />\n",
       "  <line x1=\"54\" y1=\"0\" x2=\"54\" y2=\"38\" />\n",
       "  <line x1=\"109\" y1=\"0\" x2=\"109\" y2=\"38\" />\n",
       "  <line x1=\"120\" y1=\"0\" x2=\"120\" y2=\"38\" style=\"stroke-width:2\" />\n",
       "\n",
       "  <!-- Colored Rectangle -->\n",
       "  <polygon points=\"0.0,0.0 120.0,0.0 120.0,38.06217810460202 0.0,38.06217810460202\" style=\"fill:#ECB172A0;stroke-width:0\"/>\n",
       "\n",
       "  <!-- Text -->\n",
       "  <text x=\"60.000000\" y=\"58.062178\" font-size=\"1.0rem\" font-weight=\"100\" text-anchor=\"middle\" >11</text>\n",
       "  <text x=\"140.000000\" y=\"19.031089\" font-size=\"1.0rem\" font-weight=\"100\" text-anchor=\"middle\" transform=\"rotate(0,140.000000,19.031089)\">1</text>\n",
       "</svg>\n",
       "        </td>\n",
       "    </tr>\n",
       "</table>"
      ],
      "text/plain": [
       "dask.array<arange, shape=(11,), dtype=int32, chunksize=(5,), chunktype=numpy.ndarray>"
      ]
     },
     "execution_count": 484,
     "metadata": {},
     "output_type": "execute_result"
    }
   ],
   "source": [
    "X"
   ]
  },
  {
   "cell_type": "code",
   "execution_count": 485,
   "metadata": {},
   "outputs": [
    {
     "data": {
      "text/plain": [
       "array([0, 1, 2, 3, 4, 5, 6, 7, 8, 9])"
      ]
     },
     "execution_count": 485,
     "metadata": {},
     "output_type": "execute_result"
    }
   ],
   "source": [
    "import numpy as np\n",
    "import dask.array as da\n",
    "x = np.arange(10)\n",
    "y = da.from_array(x, chunks=5)\n",
    "y.compute() #results in a dask array"
   ]
  },
  {
   "cell_type": "code",
   "execution_count": 486,
   "metadata": {},
   "outputs": [
    {
     "name": "stdout",
     "output_type": "stream",
     "text": [
      "CPU times: total: 0 ns\n",
      "Wall time: 0 ns\n",
      "CPU times: total: 0 ns\n",
      "Wall time: 8.01 ms\n"
     ]
    },
    {
     "data": {
      "text/plain": [
       "499.5"
      ]
     },
     "execution_count": 486,
     "metadata": {},
     "output_type": "execute_result"
    }
   ],
   "source": [
    "import numpy as np\n",
    "import dask.array as da\n",
    "\n",
    "x = np.arange(1000)  #arange is used to create array on values from 0 to 1000\n",
    "%time x.mean()\n",
    "y = da.from_array(x, chunks=(100))  #converting numpy array to dask array\n",
    "\n",
    "%time y.mean().compute()  #computing mean of the array\n"
   ]
  },
  {
   "cell_type": "markdown",
   "metadata": {},
   "source": [
    "### Dask Dataframe"
   ]
  },
  {
   "cell_type": "code",
   "execution_count": 487,
   "metadata": {},
   "outputs": [
    {
     "name": "stdout",
     "output_type": "stream",
     "text": [
      "c:\\Users\\spurusho\\Downloads\\NLP\\Dask\n"
     ]
    }
   ],
   "source": [
    "import os\n",
    "print(os.getcwd())"
   ]
  },
  {
   "cell_type": "code",
   "execution_count": 488,
   "metadata": {},
   "outputs": [
    {
     "name": "stdout",
     "output_type": "stream",
     "text": [
      "True\n"
     ]
    }
   ],
   "source": [
    "import os\n",
    "print(os.path.exists(\"..\\\\Dask\\\\train_oSwQCTC\\\\train.csv\"))"
   ]
  },
  {
   "cell_type": "code",
   "execution_count": 489,
   "metadata": {},
   "outputs": [
    {
     "name": "stdout",
     "output_type": "stream",
     "text": [
      "CPU times: total: 297 ms\n",
      "Wall time: 493 ms\n"
     ]
    }
   ],
   "source": [
    "base_dir = \"Dask\"\n",
    "sub_dir = \"train_oSwQCTC\"\n",
    "file_name = \"train.csv\"\n",
    "\n",
    "# Create the full path using os.path.join()\n",
    "file_path = os.path.join('..', base_dir, sub_dir, file_name)\n",
    "\n",
    "# Now use this path in your code\n",
    "import pandas as pd\n",
    "%time temp = pd.read_csv(file_path)"
   ]
  },
  {
   "cell_type": "code",
   "execution_count": 490,
   "metadata": {},
   "outputs": [
    {
     "name": "stdout",
     "output_type": "stream",
     "text": [
      "CPU times: total: 0 ns\n",
      "Wall time: 0 ns\n"
     ]
    }
   ],
   "source": [
    "#reading the file using dask\n",
    "import dask.dataframe as dd\n",
    "%time df = dd.read_csv(file_path)"
   ]
  },
  {
   "cell_type": "markdown",
   "metadata": {},
   "source": [
    "### Look as the time, mind blowing!!!"
   ]
  },
  {
   "cell_type": "code",
   "execution_count": 491,
   "metadata": {},
   "outputs": [
    {
     "data": {
      "text/html": [
       "<div>\n",
       "<style scoped>\n",
       "    .dataframe tbody tr th:only-of-type {\n",
       "        vertical-align: middle;\n",
       "    }\n",
       "\n",
       "    .dataframe tbody tr th {\n",
       "        vertical-align: top;\n",
       "    }\n",
       "\n",
       "    .dataframe thead th {\n",
       "        text-align: right;\n",
       "    }\n",
       "</style>\n",
       "<table border=\"1\" class=\"dataframe\">\n",
       "  <thead>\n",
       "    <tr style=\"text-align: right;\">\n",
       "      <th></th>\n",
       "      <th>User_ID</th>\n",
       "      <th>Product_ID</th>\n",
       "      <th>Gender</th>\n",
       "      <th>Age</th>\n",
       "      <th>Occupation</th>\n",
       "      <th>City_Category</th>\n",
       "      <th>Stay_In_Current_City_Years</th>\n",
       "      <th>Marital_Status</th>\n",
       "      <th>Product_Category_1</th>\n",
       "      <th>Product_Category_2</th>\n",
       "      <th>Product_Category_3</th>\n",
       "      <th>Purchase</th>\n",
       "    </tr>\n",
       "  </thead>\n",
       "  <tbody>\n",
       "    <tr>\n",
       "      <th>0</th>\n",
       "      <td>1000001</td>\n",
       "      <td>P00069042</td>\n",
       "      <td>F</td>\n",
       "      <td>0-17</td>\n",
       "      <td>10</td>\n",
       "      <td>A</td>\n",
       "      <td>2</td>\n",
       "      <td>0</td>\n",
       "      <td>3</td>\n",
       "      <td>NaN</td>\n",
       "      <td>NaN</td>\n",
       "      <td>8370</td>\n",
       "    </tr>\n",
       "    <tr>\n",
       "      <th>1</th>\n",
       "      <td>1000001</td>\n",
       "      <td>P00248942</td>\n",
       "      <td>F</td>\n",
       "      <td>0-17</td>\n",
       "      <td>10</td>\n",
       "      <td>A</td>\n",
       "      <td>2</td>\n",
       "      <td>0</td>\n",
       "      <td>1</td>\n",
       "      <td>6.0</td>\n",
       "      <td>14.0</td>\n",
       "      <td>15200</td>\n",
       "    </tr>\n",
       "    <tr>\n",
       "      <th>2</th>\n",
       "      <td>1000001</td>\n",
       "      <td>P00087842</td>\n",
       "      <td>F</td>\n",
       "      <td>0-17</td>\n",
       "      <td>10</td>\n",
       "      <td>A</td>\n",
       "      <td>2</td>\n",
       "      <td>0</td>\n",
       "      <td>12</td>\n",
       "      <td>NaN</td>\n",
       "      <td>NaN</td>\n",
       "      <td>1422</td>\n",
       "    </tr>\n",
       "    <tr>\n",
       "      <th>3</th>\n",
       "      <td>1000001</td>\n",
       "      <td>P00085442</td>\n",
       "      <td>F</td>\n",
       "      <td>0-17</td>\n",
       "      <td>10</td>\n",
       "      <td>A</td>\n",
       "      <td>2</td>\n",
       "      <td>0</td>\n",
       "      <td>12</td>\n",
       "      <td>14.0</td>\n",
       "      <td>NaN</td>\n",
       "      <td>1057</td>\n",
       "    </tr>\n",
       "    <tr>\n",
       "      <th>4</th>\n",
       "      <td>1000002</td>\n",
       "      <td>P00285442</td>\n",
       "      <td>M</td>\n",
       "      <td>55+</td>\n",
       "      <td>16</td>\n",
       "      <td>C</td>\n",
       "      <td>4+</td>\n",
       "      <td>0</td>\n",
       "      <td>8</td>\n",
       "      <td>NaN</td>\n",
       "      <td>NaN</td>\n",
       "      <td>7969</td>\n",
       "    </tr>\n",
       "  </tbody>\n",
       "</table>\n",
       "</div>"
      ],
      "text/plain": [
       "   User_ID Product_ID Gender   Age  Occupation City_Category  \\\n",
       "0  1000001  P00069042      F  0-17          10             A   \n",
       "1  1000001  P00248942      F  0-17          10             A   \n",
       "2  1000001  P00087842      F  0-17          10             A   \n",
       "3  1000001  P00085442      F  0-17          10             A   \n",
       "4  1000002  P00285442      M   55+          16             C   \n",
       "\n",
       "  Stay_In_Current_City_Years  Marital_Status  Product_Category_1  \\\n",
       "0                          2               0                   3   \n",
       "1                          2               0                   1   \n",
       "2                          2               0                  12   \n",
       "3                          2               0                  12   \n",
       "4                         4+               0                   8   \n",
       "\n",
       "   Product_Category_2  Product_Category_3  Purchase  \n",
       "0                 NaN                 NaN      8370  \n",
       "1                 6.0                14.0     15200  \n",
       "2                 NaN                 NaN      1422  \n",
       "3                14.0                 NaN      1057  \n",
       "4                 NaN                 NaN      7969  "
      ]
     },
     "execution_count": 491,
     "metadata": {},
     "output_type": "execute_result"
    }
   ],
   "source": [
    "df.head()"
   ]
  },
  {
   "cell_type": "code",
   "execution_count": 492,
   "metadata": {},
   "outputs": [
    {
     "data": {
      "text/plain": [
       "(<dask_expr.expr.Scalar: expr=ReadCSV(16f2320).size() // 12, dtype=int32>, 12)"
      ]
     },
     "execution_count": 492,
     "metadata": {},
     "output_type": "execute_result"
    }
   ],
   "source": [
    "df.shape"
   ]
  },
  {
   "cell_type": "code",
   "execution_count": 493,
   "metadata": {},
   "outputs": [
    {
     "data": {
      "text/plain": [
       "Index(['User_ID', 'Product_ID', 'Gender', 'Age', 'Occupation', 'City_Category',\n",
       "       'Stay_In_Current_City_Years', 'Marital_Status', 'Product_Category_1',\n",
       "       'Product_Category_2', 'Product_Category_3', 'Purchase'],\n",
       "      dtype='object')"
      ]
     },
     "execution_count": 493,
     "metadata": {},
     "output_type": "execute_result"
    }
   ],
   "source": [
    "df.columns"
   ]
  },
  {
   "cell_type": "code",
   "execution_count": 494,
   "metadata": {},
   "outputs": [
    {
     "data": {
      "text/plain": [
       "Gender\n",
       "F    135809\n",
       "M    414259\n",
       "Name: count, dtype: int64"
      ]
     },
     "execution_count": 494,
     "metadata": {},
     "output_type": "execute_result"
    }
   ],
   "source": [
    "df['Gender'].value_counts().compute()"
   ]
  },
  {
   "cell_type": "code",
   "execution_count": 495,
   "metadata": {},
   "outputs": [
    {
     "data": {
      "text/plain": [
       "Gender\n",
       "F    23959\n",
       "M    23961\n",
       "Name: Purchase, dtype: int64"
      ]
     },
     "execution_count": 495,
     "metadata": {},
     "output_type": "execute_result"
    }
   ],
   "source": [
    "df.groupby(df.Gender)['Purchase'].max().compute()"
   ]
  },
  {
   "cell_type": "code",
   "execution_count": 496,
   "metadata": {},
   "outputs": [
    {
     "data": {
      "text/plain": [
       "User_ID                            0\n",
       "Product_ID                         0\n",
       "Gender                             0\n",
       "Age                                0\n",
       "Occupation                         0\n",
       "City_Category                      0\n",
       "Stay_In_Current_City_Years         0\n",
       "Marital_Status                     0\n",
       "Product_Category_1                 0\n",
       "Product_Category_2            173638\n",
       "Product_Category_3            383247\n",
       "Purchase                           0\n",
       "dtype: int64"
      ]
     },
     "execution_count": 496,
     "metadata": {},
     "output_type": "execute_result"
    }
   ],
   "source": [
    "df.isna().sum().compute()"
   ]
  },
  {
   "cell_type": "code",
   "execution_count": 497,
   "metadata": {},
   "outputs": [
    {
     "data": {
      "text/plain": [
       "0       P00069042\n",
       "1       P00248942\n",
       "2       P00087842\n",
       "3       P00085442\n",
       "4       P00285442\n",
       "          ...    \n",
       "3626    P00375436\n",
       "3627    P00372445\n",
       "3628    P00370293\n",
       "3629    P00371644\n",
       "3630    P00370853\n",
       "Name: Product_ID, Length: 3631, dtype: object"
      ]
     },
     "execution_count": 497,
     "metadata": {},
     "output_type": "execute_result"
    }
   ],
   "source": [
    "df['Product_ID'].unique().compute()"
   ]
  },
  {
   "cell_type": "code",
   "execution_count": 498,
   "metadata": {},
   "outputs": [
    {
     "data": {
      "text/plain": [
       "0     0-17\n",
       "1      55+\n",
       "2    26-35\n",
       "3    46-50\n",
       "4    51-55\n",
       "5    36-45\n",
       "6    18-25\n",
       "Name: Age, dtype: object"
      ]
     },
     "execution_count": 498,
     "metadata": {},
     "output_type": "execute_result"
    }
   ],
   "source": [
    "df['Age'].unique().compute()"
   ]
  },
  {
   "cell_type": "code",
   "execution_count": 499,
   "metadata": {},
   "outputs": [
    {
     "data": {
      "text/plain": [
       "0     10\n",
       "1     16\n",
       "2     15\n",
       "3      7\n",
       "4     20\n",
       "5      9\n",
       "6      1\n",
       "7     12\n",
       "8     17\n",
       "9      0\n",
       "10     3\n",
       "11     4\n",
       "12    11\n",
       "13     8\n",
       "14    19\n",
       "15     2\n",
       "16    18\n",
       "17     5\n",
       "18    14\n",
       "19    13\n",
       "20     6\n",
       "Name: Occupation, dtype: int64"
      ]
     },
     "execution_count": 499,
     "metadata": {},
     "output_type": "execute_result"
    }
   ],
   "source": [
    "df['Occupation'].unique().compute()"
   ]
  },
  {
   "cell_type": "code",
   "execution_count": 500,
   "metadata": {},
   "outputs": [
    {
     "data": {
      "text/plain": [
       "0    A\n",
       "1    C\n",
       "2    B\n",
       "Name: City_Category, dtype: object"
      ]
     },
     "execution_count": 500,
     "metadata": {},
     "output_type": "execute_result"
    }
   ],
   "source": [
    "df['City_Category'].unique().compute()"
   ]
  },
  {
   "cell_type": "code",
   "execution_count": 501,
   "metadata": {},
   "outputs": [
    {
     "data": {
      "text/plain": [
       "0     2\n",
       "1    4+\n",
       "2     3\n",
       "3     1\n",
       "4     0\n",
       "Name: Stay_In_Current_City_Years, dtype: object"
      ]
     },
     "execution_count": 501,
     "metadata": {},
     "output_type": "execute_result"
    }
   ],
   "source": [
    "df['Stay_In_Current_City_Years'].unique().compute()"
   ]
  },
  {
   "cell_type": "code",
   "execution_count": 502,
   "metadata": {},
   "outputs": [
    {
     "data": {
      "text/plain": [
       "0    0\n",
       "1    1\n",
       "Name: Marital_Status, dtype: int64"
      ]
     },
     "execution_count": 502,
     "metadata": {},
     "output_type": "execute_result"
    }
   ],
   "source": [
    "df['Marital_Status'].unique().compute()"
   ]
  },
  {
   "cell_type": "code",
   "execution_count": 503,
   "metadata": {},
   "outputs": [
    {
     "data": {
      "text/plain": [
       "0      3\n",
       "1      1\n",
       "2     12\n",
       "3      8\n",
       "4      5\n",
       "5      4\n",
       "6      2\n",
       "7      6\n",
       "8     14\n",
       "9     11\n",
       "10    13\n",
       "11    15\n",
       "12     7\n",
       "13    16\n",
       "14    18\n",
       "15    10\n",
       "16    17\n",
       "17     9\n",
       "18    20\n",
       "19    19\n",
       "Name: Product_Category_1, dtype: int64"
      ]
     },
     "execution_count": 503,
     "metadata": {},
     "output_type": "execute_result"
    }
   ],
   "source": [
    "df['Product_Category_1'].unique().compute()"
   ]
  },
  {
   "cell_type": "code",
   "execution_count": 504,
   "metadata": {},
   "outputs": [
    {
     "data": {
      "text/plain": [
       "0      NaN\n",
       "1      6.0\n",
       "2     14.0\n",
       "3      2.0\n",
       "4      8.0\n",
       "5     15.0\n",
       "6     16.0\n",
       "7     11.0\n",
       "8      5.0\n",
       "9      3.0\n",
       "10     4.0\n",
       "11    12.0\n",
       "12     9.0\n",
       "13    10.0\n",
       "14    17.0\n",
       "15    13.0\n",
       "16     7.0\n",
       "17    18.0\n",
       "Name: Product_Category_2, dtype: float64"
      ]
     },
     "execution_count": 504,
     "metadata": {},
     "output_type": "execute_result"
    }
   ],
   "source": [
    "df['Product_Category_2'].unique().compute()"
   ]
  },
  {
   "cell_type": "code",
   "execution_count": 505,
   "metadata": {},
   "outputs": [
    {
     "data": {
      "text/plain": [
       "0      NaN\n",
       "1      6.0\n",
       "2     14.0\n",
       "3      2.0\n",
       "4      8.0\n",
       "5     15.0\n",
       "6     16.0\n",
       "7     11.0\n",
       "8      5.0\n",
       "9      3.0\n",
       "10     4.0\n",
       "11    12.0\n",
       "12     9.0\n",
       "13    10.0\n",
       "14    17.0\n",
       "15    13.0\n",
       "16     7.0\n",
       "17    18.0\n",
       "Name: Product_Category_2, dtype: float64"
      ]
     },
     "execution_count": 505,
     "metadata": {},
     "output_type": "execute_result"
    }
   ],
   "source": [
    "df['Product_Category_2'].unique().compute()"
   ]
  },
  {
   "cell_type": "code",
   "execution_count": 506,
   "metadata": {},
   "outputs": [
    {
     "data": {
      "text/plain": [
       "Index(['User_ID', 'Product_ID', 'Gender', 'Age', 'Occupation', 'City_Category',\n",
       "       'Stay_In_Current_City_Years', 'Marital_Status', 'Product_Category_1',\n",
       "       'Product_Category_2', 'Product_Category_3', 'Purchase'],\n",
       "      dtype='object')"
      ]
     },
     "execution_count": 506,
     "metadata": {},
     "output_type": "execute_result"
    }
   ],
   "source": [
    "df.columns"
   ]
  },
  {
   "cell_type": "code",
   "execution_count": 507,
   "metadata": {},
   "outputs": [
    {
     "data": {
      "text/plain": [
       "1000001"
      ]
     },
     "execution_count": 507,
     "metadata": {},
     "output_type": "execute_result"
    }
   ],
   "source": [
    "df['User_ID'][0].compute()"
   ]
  },
  {
   "cell_type": "code",
   "execution_count": 508,
   "metadata": {},
   "outputs": [
    {
     "data": {
      "text/html": [
       "<div>\n",
       "<style scoped>\n",
       "    .dataframe tbody tr th:only-of-type {\n",
       "        vertical-align: middle;\n",
       "    }\n",
       "\n",
       "    .dataframe tbody tr th {\n",
       "        vertical-align: top;\n",
       "    }\n",
       "\n",
       "    .dataframe thead th {\n",
       "        text-align: right;\n",
       "    }\n",
       "</style>\n",
       "<table border=\"1\" class=\"dataframe\">\n",
       "  <thead>\n",
       "    <tr style=\"text-align: right;\">\n",
       "      <th></th>\n",
       "      <th>User_ID</th>\n",
       "      <th>Product_ID</th>\n",
       "      <th>Gender</th>\n",
       "      <th>Age</th>\n",
       "      <th>Occupation</th>\n",
       "      <th>City_Category</th>\n",
       "      <th>Stay_In_Current_City_Years</th>\n",
       "      <th>Marital_Status</th>\n",
       "      <th>Product_Category_1</th>\n",
       "      <th>Product_Category_2</th>\n",
       "      <th>Product_Category_3</th>\n",
       "      <th>Purchase</th>\n",
       "    </tr>\n",
       "  </thead>\n",
       "  <tbody>\n",
       "    <tr>\n",
       "      <th>0</th>\n",
       "      <td>1000001</td>\n",
       "      <td>P00069042</td>\n",
       "      <td>F</td>\n",
       "      <td>0-17</td>\n",
       "      <td>10</td>\n",
       "      <td>A</td>\n",
       "      <td>2</td>\n",
       "      <td>0</td>\n",
       "      <td>3</td>\n",
       "      <td>NaN</td>\n",
       "      <td>NaN</td>\n",
       "      <td>8370</td>\n",
       "    </tr>\n",
       "    <tr>\n",
       "      <th>825</th>\n",
       "      <td>1000149</td>\n",
       "      <td>P00069042</td>\n",
       "      <td>M</td>\n",
       "      <td>26-35</td>\n",
       "      <td>1</td>\n",
       "      <td>B</td>\n",
       "      <td>2</td>\n",
       "      <td>1</td>\n",
       "      <td>3</td>\n",
       "      <td>NaN</td>\n",
       "      <td>NaN</td>\n",
       "      <td>10715</td>\n",
       "    </tr>\n",
       "    <tr>\n",
       "      <th>3314</th>\n",
       "      <td>1000541</td>\n",
       "      <td>P00069042</td>\n",
       "      <td>F</td>\n",
       "      <td>18-25</td>\n",
       "      <td>4</td>\n",
       "      <td>C</td>\n",
       "      <td>3</td>\n",
       "      <td>0</td>\n",
       "      <td>3</td>\n",
       "      <td>NaN</td>\n",
       "      <td>NaN</td>\n",
       "      <td>11037</td>\n",
       "    </tr>\n",
       "    <tr>\n",
       "      <th>4224</th>\n",
       "      <td>1000698</td>\n",
       "      <td>P00069042</td>\n",
       "      <td>M</td>\n",
       "      <td>18-25</td>\n",
       "      <td>4</td>\n",
       "      <td>A</td>\n",
       "      <td>1</td>\n",
       "      <td>0</td>\n",
       "      <td>3</td>\n",
       "      <td>NaN</td>\n",
       "      <td>NaN</td>\n",
       "      <td>8009</td>\n",
       "    </tr>\n",
       "    <tr>\n",
       "      <th>5864</th>\n",
       "      <td>1000951</td>\n",
       "      <td>P00069042</td>\n",
       "      <td>M</td>\n",
       "      <td>46-50</td>\n",
       "      <td>2</td>\n",
       "      <td>B</td>\n",
       "      <td>4+</td>\n",
       "      <td>1</td>\n",
       "      <td>3</td>\n",
       "      <td>NaN</td>\n",
       "      <td>NaN</td>\n",
       "      <td>13346</td>\n",
       "    </tr>\n",
       "    <tr>\n",
       "      <th>...</th>\n",
       "      <td>...</td>\n",
       "      <td>...</td>\n",
       "      <td>...</td>\n",
       "      <td>...</td>\n",
       "      <td>...</td>\n",
       "      <td>...</td>\n",
       "      <td>...</td>\n",
       "      <td>...</td>\n",
       "      <td>...</td>\n",
       "      <td>...</td>\n",
       "      <td>...</td>\n",
       "      <td>...</td>\n",
       "    </tr>\n",
       "    <tr>\n",
       "      <th>539484</th>\n",
       "      <td>1005061</td>\n",
       "      <td>P00069042</td>\n",
       "      <td>F</td>\n",
       "      <td>18-25</td>\n",
       "      <td>19</td>\n",
       "      <td>C</td>\n",
       "      <td>2</td>\n",
       "      <td>1</td>\n",
       "      <td>3</td>\n",
       "      <td>NaN</td>\n",
       "      <td>NaN</td>\n",
       "      <td>13483</td>\n",
       "    </tr>\n",
       "    <tr>\n",
       "      <th>540849</th>\n",
       "      <td>1005284</td>\n",
       "      <td>P00069042</td>\n",
       "      <td>M</td>\n",
       "      <td>26-35</td>\n",
       "      <td>16</td>\n",
       "      <td>C</td>\n",
       "      <td>1</td>\n",
       "      <td>0</td>\n",
       "      <td>3</td>\n",
       "      <td>NaN</td>\n",
       "      <td>NaN</td>\n",
       "      <td>10895</td>\n",
       "    </tr>\n",
       "    <tr>\n",
       "      <th>543419</th>\n",
       "      <td>1005667</td>\n",
       "      <td>P00069042</td>\n",
       "      <td>M</td>\n",
       "      <td>36-45</td>\n",
       "      <td>7</td>\n",
       "      <td>B</td>\n",
       "      <td>1</td>\n",
       "      <td>1</td>\n",
       "      <td>3</td>\n",
       "      <td>NaN</td>\n",
       "      <td>NaN</td>\n",
       "      <td>11047</td>\n",
       "    </tr>\n",
       "    <tr>\n",
       "      <th>544454</th>\n",
       "      <td>1005812</td>\n",
       "      <td>P00069042</td>\n",
       "      <td>F</td>\n",
       "      <td>26-35</td>\n",
       "      <td>7</td>\n",
       "      <td>A</td>\n",
       "      <td>1</td>\n",
       "      <td>1</td>\n",
       "      <td>3</td>\n",
       "      <td>NaN</td>\n",
       "      <td>NaN</td>\n",
       "      <td>13557</td>\n",
       "    </tr>\n",
       "    <tr>\n",
       "      <th>545219</th>\n",
       "      <td>1005938</td>\n",
       "      <td>P00069042</td>\n",
       "      <td>M</td>\n",
       "      <td>26-35</td>\n",
       "      <td>1</td>\n",
       "      <td>C</td>\n",
       "      <td>1</td>\n",
       "      <td>1</td>\n",
       "      <td>3</td>\n",
       "      <td>NaN</td>\n",
       "      <td>NaN</td>\n",
       "      <td>13241</td>\n",
       "    </tr>\n",
       "  </tbody>\n",
       "</table>\n",
       "<p>227 rows × 12 columns</p>\n",
       "</div>"
      ],
      "text/plain": [
       "        User_ID Product_ID Gender    Age  Occupation City_Category  \\\n",
       "0       1000001  P00069042      F   0-17          10             A   \n",
       "825     1000149  P00069042      M  26-35           1             B   \n",
       "3314    1000541  P00069042      F  18-25           4             C   \n",
       "4224    1000698  P00069042      M  18-25           4             A   \n",
       "5864    1000951  P00069042      M  46-50           2             B   \n",
       "...         ...        ...    ...    ...         ...           ...   \n",
       "539484  1005061  P00069042      F  18-25          19             C   \n",
       "540849  1005284  P00069042      M  26-35          16             C   \n",
       "543419  1005667  P00069042      M  36-45           7             B   \n",
       "544454  1005812  P00069042      F  26-35           7             A   \n",
       "545219  1005938  P00069042      M  26-35           1             C   \n",
       "\n",
       "       Stay_In_Current_City_Years  Marital_Status  Product_Category_1  \\\n",
       "0                               2               0                   3   \n",
       "825                             2               1                   3   \n",
       "3314                            3               0                   3   \n",
       "4224                            1               0                   3   \n",
       "5864                           4+               1                   3   \n",
       "...                           ...             ...                 ...   \n",
       "539484                          2               1                   3   \n",
       "540849                          1               0                   3   \n",
       "543419                          1               1                   3   \n",
       "544454                          1               1                   3   \n",
       "545219                          1               1                   3   \n",
       "\n",
       "        Product_Category_2  Product_Category_3  Purchase  \n",
       "0                      NaN                 NaN      8370  \n",
       "825                    NaN                 NaN     10715  \n",
       "3314                   NaN                 NaN     11037  \n",
       "4224                   NaN                 NaN      8009  \n",
       "5864                   NaN                 NaN     13346  \n",
       "...                    ...                 ...       ...  \n",
       "539484                 NaN                 NaN     13483  \n",
       "540849                 NaN                 NaN     10895  \n",
       "543419                 NaN                 NaN     11047  \n",
       "544454                 NaN                 NaN     13557  \n",
       "545219                 NaN                 NaN     13241  \n",
       "\n",
       "[227 rows x 12 columns]"
      ]
     },
     "execution_count": 508,
     "metadata": {},
     "output_type": "execute_result"
    }
   ],
   "source": [
    "df[df['Product_ID'] == df['Product_ID'][0].compute()].compute()"
   ]
  },
  {
   "cell_type": "code",
   "execution_count": 509,
   "metadata": {},
   "outputs": [
    {
     "data": {
      "text/html": [
       "<div>\n",
       "<style scoped>\n",
       "    .dataframe tbody tr th:only-of-type {\n",
       "        vertical-align: middle;\n",
       "    }\n",
       "\n",
       "    .dataframe tbody tr th {\n",
       "        vertical-align: top;\n",
       "    }\n",
       "\n",
       "    .dataframe thead th {\n",
       "        text-align: right;\n",
       "    }\n",
       "</style>\n",
       "<table border=\"1\" class=\"dataframe\">\n",
       "  <thead>\n",
       "    <tr style=\"text-align: right;\">\n",
       "      <th></th>\n",
       "      <th>Product_Category_1</th>\n",
       "      <th>Product_Category_2</th>\n",
       "      <th>Product_Category_3</th>\n",
       "    </tr>\n",
       "  </thead>\n",
       "  <tbody>\n",
       "    <tr>\n",
       "      <th>0</th>\n",
       "      <td>3</td>\n",
       "      <td>NaN</td>\n",
       "      <td>NaN</td>\n",
       "    </tr>\n",
       "    <tr>\n",
       "      <th>1</th>\n",
       "      <td>1</td>\n",
       "      <td>6.0</td>\n",
       "      <td>14.0</td>\n",
       "    </tr>\n",
       "    <tr>\n",
       "      <th>2</th>\n",
       "      <td>12</td>\n",
       "      <td>NaN</td>\n",
       "      <td>NaN</td>\n",
       "    </tr>\n",
       "    <tr>\n",
       "      <th>3</th>\n",
       "      <td>12</td>\n",
       "      <td>14.0</td>\n",
       "      <td>NaN</td>\n",
       "    </tr>\n",
       "    <tr>\n",
       "      <th>4</th>\n",
       "      <td>8</td>\n",
       "      <td>NaN</td>\n",
       "      <td>NaN</td>\n",
       "    </tr>\n",
       "    <tr>\n",
       "      <th>...</th>\n",
       "      <td>...</td>\n",
       "      <td>...</td>\n",
       "      <td>...</td>\n",
       "    </tr>\n",
       "    <tr>\n",
       "      <th>550063</th>\n",
       "      <td>20</td>\n",
       "      <td>NaN</td>\n",
       "      <td>NaN</td>\n",
       "    </tr>\n",
       "    <tr>\n",
       "      <th>550064</th>\n",
       "      <td>20</td>\n",
       "      <td>NaN</td>\n",
       "      <td>NaN</td>\n",
       "    </tr>\n",
       "    <tr>\n",
       "      <th>550065</th>\n",
       "      <td>20</td>\n",
       "      <td>NaN</td>\n",
       "      <td>NaN</td>\n",
       "    </tr>\n",
       "    <tr>\n",
       "      <th>550066</th>\n",
       "      <td>20</td>\n",
       "      <td>NaN</td>\n",
       "      <td>NaN</td>\n",
       "    </tr>\n",
       "    <tr>\n",
       "      <th>550067</th>\n",
       "      <td>20</td>\n",
       "      <td>NaN</td>\n",
       "      <td>NaN</td>\n",
       "    </tr>\n",
       "  </tbody>\n",
       "</table>\n",
       "<p>550068 rows × 3 columns</p>\n",
       "</div>"
      ],
      "text/plain": [
       "        Product_Category_1  Product_Category_2  Product_Category_3\n",
       "0                        3                 NaN                 NaN\n",
       "1                        1                 6.0                14.0\n",
       "2                       12                 NaN                 NaN\n",
       "3                       12                14.0                 NaN\n",
       "4                        8                 NaN                 NaN\n",
       "...                    ...                 ...                 ...\n",
       "550063                  20                 NaN                 NaN\n",
       "550064                  20                 NaN                 NaN\n",
       "550065                  20                 NaN                 NaN\n",
       "550066                  20                 NaN                 NaN\n",
       "550067                  20                 NaN                 NaN\n",
       "\n",
       "[550068 rows x 3 columns]"
      ]
     },
     "execution_count": 509,
     "metadata": {},
     "output_type": "execute_result"
    }
   ],
   "source": [
    "df[['Product_Category_1','Product_Category_2', 'Product_Category_3']].compute()"
   ]
  },
  {
   "cell_type": "code",
   "execution_count": 510,
   "metadata": {},
   "outputs": [],
   "source": [
    "# Dropping unwanted columns\n",
    "# df = df.drop(columns=['User_ID', 'Product_ID'], axis=1).compute()"
   ]
  },
  {
   "cell_type": "code",
   "execution_count": 511,
   "metadata": {},
   "outputs": [
    {
     "data": {
      "text/plain": [
       "Index(['User_ID', 'Product_ID', 'Gender', 'Age', 'Occupation', 'City_Category',\n",
       "       'Stay_In_Current_City_Years', 'Marital_Status', 'Product_Category_1',\n",
       "       'Product_Category_2', 'Product_Category_3', 'Purchase'],\n",
       "      dtype='object')"
      ]
     },
     "execution_count": 511,
     "metadata": {},
     "output_type": "execute_result"
    }
   ],
   "source": [
    "df.columns"
   ]
  },
  {
   "cell_type": "code",
   "execution_count": 512,
   "metadata": {},
   "outputs": [
    {
     "data": {
      "text/html": [
       "<div>\n",
       "<style scoped>\n",
       "    .dataframe tbody tr th:only-of-type {\n",
       "        vertical-align: middle;\n",
       "    }\n",
       "\n",
       "    .dataframe tbody tr th {\n",
       "        vertical-align: top;\n",
       "    }\n",
       "\n",
       "    .dataframe thead th {\n",
       "        text-align: right;\n",
       "    }\n",
       "</style>\n",
       "<table border=\"1\" class=\"dataframe\">\n",
       "  <thead>\n",
       "    <tr style=\"text-align: right;\">\n",
       "      <th></th>\n",
       "      <th>User_ID</th>\n",
       "      <th>Product_ID</th>\n",
       "      <th>Gender</th>\n",
       "      <th>Age</th>\n",
       "      <th>Occupation</th>\n",
       "      <th>City_Category</th>\n",
       "      <th>Stay_In_Current_City_Years</th>\n",
       "      <th>Marital_Status</th>\n",
       "      <th>Product_Category_1</th>\n",
       "      <th>Product_Category_2</th>\n",
       "      <th>Product_Category_3</th>\n",
       "      <th>Purchase</th>\n",
       "    </tr>\n",
       "  </thead>\n",
       "  <tbody>\n",
       "    <tr>\n",
       "      <th>0</th>\n",
       "      <td>1000001</td>\n",
       "      <td>P00069042</td>\n",
       "      <td>F</td>\n",
       "      <td>0-17</td>\n",
       "      <td>10</td>\n",
       "      <td>A</td>\n",
       "      <td>2</td>\n",
       "      <td>0</td>\n",
       "      <td>3</td>\n",
       "      <td>NaN</td>\n",
       "      <td>NaN</td>\n",
       "      <td>8370</td>\n",
       "    </tr>\n",
       "    <tr>\n",
       "      <th>1</th>\n",
       "      <td>1000001</td>\n",
       "      <td>P00248942</td>\n",
       "      <td>F</td>\n",
       "      <td>0-17</td>\n",
       "      <td>10</td>\n",
       "      <td>A</td>\n",
       "      <td>2</td>\n",
       "      <td>0</td>\n",
       "      <td>1</td>\n",
       "      <td>6.0</td>\n",
       "      <td>14.0</td>\n",
       "      <td>15200</td>\n",
       "    </tr>\n",
       "    <tr>\n",
       "      <th>2</th>\n",
       "      <td>1000001</td>\n",
       "      <td>P00087842</td>\n",
       "      <td>F</td>\n",
       "      <td>0-17</td>\n",
       "      <td>10</td>\n",
       "      <td>A</td>\n",
       "      <td>2</td>\n",
       "      <td>0</td>\n",
       "      <td>12</td>\n",
       "      <td>NaN</td>\n",
       "      <td>NaN</td>\n",
       "      <td>1422</td>\n",
       "    </tr>\n",
       "    <tr>\n",
       "      <th>3</th>\n",
       "      <td>1000001</td>\n",
       "      <td>P00085442</td>\n",
       "      <td>F</td>\n",
       "      <td>0-17</td>\n",
       "      <td>10</td>\n",
       "      <td>A</td>\n",
       "      <td>2</td>\n",
       "      <td>0</td>\n",
       "      <td>12</td>\n",
       "      <td>14.0</td>\n",
       "      <td>NaN</td>\n",
       "      <td>1057</td>\n",
       "    </tr>\n",
       "    <tr>\n",
       "      <th>4</th>\n",
       "      <td>1000002</td>\n",
       "      <td>P00285442</td>\n",
       "      <td>M</td>\n",
       "      <td>55+</td>\n",
       "      <td>16</td>\n",
       "      <td>C</td>\n",
       "      <td>4+</td>\n",
       "      <td>0</td>\n",
       "      <td>8</td>\n",
       "      <td>NaN</td>\n",
       "      <td>NaN</td>\n",
       "      <td>7969</td>\n",
       "    </tr>\n",
       "  </tbody>\n",
       "</table>\n",
       "</div>"
      ],
      "text/plain": [
       "   User_ID Product_ID Gender   Age  Occupation City_Category  \\\n",
       "0  1000001  P00069042      F  0-17          10             A   \n",
       "1  1000001  P00248942      F  0-17          10             A   \n",
       "2  1000001  P00087842      F  0-17          10             A   \n",
       "3  1000001  P00085442      F  0-17          10             A   \n",
       "4  1000002  P00285442      M   55+          16             C   \n",
       "\n",
       "  Stay_In_Current_City_Years  Marital_Status  Product_Category_1  \\\n",
       "0                          2               0                   3   \n",
       "1                          2               0                   1   \n",
       "2                          2               0                  12   \n",
       "3                          2               0                  12   \n",
       "4                         4+               0                   8   \n",
       "\n",
       "   Product_Category_2  Product_Category_3  Purchase  \n",
       "0                 NaN                 NaN      8370  \n",
       "1                 6.0                14.0     15200  \n",
       "2                 NaN                 NaN      1422  \n",
       "3                14.0                 NaN      1057  \n",
       "4                 NaN                 NaN      7969  "
      ]
     },
     "execution_count": 512,
     "metadata": {},
     "output_type": "execute_result"
    }
   ],
   "source": [
    "df.head()"
   ]
  },
  {
   "cell_type": "code",
   "execution_count": 513,
   "metadata": {},
   "outputs": [
    {
     "data": {
      "text/plain": [
       "550068"
      ]
     },
     "execution_count": 513,
     "metadata": {},
     "output_type": "execute_result"
    }
   ],
   "source": [
    "len(df)"
   ]
  },
  {
   "cell_type": "code",
   "execution_count": 514,
   "metadata": {},
   "outputs": [],
   "source": [
    "# data = df"
   ]
  },
  {
   "cell_type": "code",
   "execution_count": 515,
   "metadata": {},
   "outputs": [],
   "source": [
    "# df_combined = df[['Product_Category_1', 'Product_Category_2', 'Product_Category_3']].fillna(0).astype(int)"
   ]
  },
  {
   "cell_type": "code",
   "execution_count": 516,
   "metadata": {},
   "outputs": [],
   "source": [
    "# # Step 2: Use pd.get_dummies() to perform one-hot encoding\n",
    "# # This applies one-hot encoding to each column separately\n",
    "# df_one_hot = pd.get_dummies(df_combined, columns=['Product_Category_1', 'Product_Category_2', 'Product_Category_3'], prefix='', prefix_sep='')"
   ]
  },
  {
   "cell_type": "code",
   "execution_count": 517,
   "metadata": {},
   "outputs": [],
   "source": [
    "# # Step 3: Aggregate the columns to merge one-hot encoded features for the same category\n",
    "# df_one_hot = df_one_hot.groupby(lambda x: x.split('_')[-1], axis=1).sum()"
   ]
  },
  {
   "cell_type": "code",
   "execution_count": 518,
   "metadata": {},
   "outputs": [],
   "source": [
    "# # Step 4: Optional - Adjust column names to reflect that these represent categories\n",
    "# df_one_hot.columns = [f'Category_{col}' for col in df_one_hot.columns]"
   ]
  },
  {
   "cell_type": "code",
   "execution_count": 519,
   "metadata": {},
   "outputs": [],
   "source": [
    "# df_one_hot"
   ]
  },
  {
   "cell_type": "markdown",
   "metadata": {},
   "source": [
    "### So,label encoder : Gender, \n",
    "### onehotencoder : Age, City_category, Stay_In_Current_City_Years"
   ]
  },
  {
   "cell_type": "code",
   "execution_count": 520,
   "metadata": {},
   "outputs": [],
   "source": [
    "import pandas as pd\n",
    "from sklearn.base import BaseEstimator, TransformerMixin\n",
    "from sklearn.preprocessing import OneHotEncoder\n",
    "from sklearn.pipeline import Pipeline\n",
    "from sklearn.compose import ColumnTransformer"
   ]
  },
  {
   "cell_type": "code",
   "execution_count": 521,
   "metadata": {},
   "outputs": [],
   "source": [
    "# Step 1: Custom Transformer to combine product categories\n",
    "class ProductCategoryCombiner(BaseEstimator, TransformerMixin):\n",
    "    def fit(self, X, y=None):\n",
    "        return self\n",
    "    \n",
    "    def transform(self, X):\n",
    "        # Combine the three product category columns, fill NaNs with 0 and convert to int\n",
    "        df_combined = X[['Product_Category_1', 'Product_Category_2', 'Product_Category_3']].fillna(0).astype(int)\n",
    "        return df_combined\n",
    "\n",
    "# Step 2: Custom Transformer to perform one-hot encoding and aggregation\n",
    "class OneHotAggregator(BaseEstimator, TransformerMixin):\n",
    "    def fit(self, X, y=None):\n",
    "        return self\n",
    "    \n",
    "    def transform(self, X):\n",
    "        # Apply one-hot encoding\n",
    "        df_one_hot = pd.get_dummies(X, columns=['Product_Category_1', 'Product_Category_2', 'Product_Category_3'], prefix='', prefix_sep='')\n",
    "        # Aggregate the one-hot encoded columns\n",
    "        df_one_hot = df_one_hot.groupby(lambda x: x.split('_')[-1], axis=1).sum()\n",
    "        return df_one_hot\n",
    "    \n",
    "# # Step 3: Custom Transformer to drop unwanted columns\n",
    "# class ColumnDropper(BaseEstimator, TransformerMixin):\n",
    "#     def __init__(self, columns_to_drop):\n",
    "#         self.columns_to_drop = columns_to_drop\n",
    "    \n",
    "#     def fit(self, X, y=None):\n",
    "#         return self\n",
    "    \n",
    "#     def transform(self, X):\n",
    "#         return X.drop(columns=self.columns_to_drop, axis=1)"
   ]
  },
  {
   "cell_type": "code",
   "execution_count": 522,
   "metadata": {},
   "outputs": [],
   "source": [
    "# Step 4: Define the product category pipeline\n",
    "product_category_pipeline = Pipeline(steps=[\n",
    "    # ('drop_columns', ColumnDropper(columns_to_drop=['User_ID', 'Product_ID'])),  # Drop unwanted columns\n",
    "    ('combiner', ProductCategoryCombiner()),  # Combine product categories\n",
    "    ('one_hot_aggregator', OneHotAggregator())  # Apply one-hot encoding and aggregate\n",
    "])\n"
   ]
  },
  {
   "cell_type": "code",
   "execution_count": 523,
   "metadata": {},
   "outputs": [],
   "source": [
    "from sklearn.preprocessing import OrdinalEncoder, OneHotEncoder, StandardScaler\n",
    "OE = OrdinalEncoder()\n",
    "OHE = OneHotEncoder(drop = 'first')\n",
    "SE = StandardScaler()"
   ]
  },
  {
   "cell_type": "code",
   "execution_count": 524,
   "metadata": {},
   "outputs": [
    {
     "data": {
      "text/plain": [
       "Index(['User_ID', 'Product_ID', 'Gender', 'Age', 'Occupation', 'City_Category',\n",
       "       'Stay_In_Current_City_Years', 'Marital_Status', 'Product_Category_1',\n",
       "       'Product_Category_2', 'Product_Category_3', 'Purchase'],\n",
       "      dtype='object')"
      ]
     },
     "execution_count": 524,
     "metadata": {},
     "output_type": "execute_result"
    }
   ],
   "source": [
    "df.columns"
   ]
  },
  {
   "cell_type": "code",
   "execution_count": 525,
   "metadata": {},
   "outputs": [],
   "source": [
    "y = df['Purchase']"
   ]
  },
  {
   "cell_type": "code",
   "execution_count": 526,
   "metadata": {},
   "outputs": [],
   "source": [
    "df = df.drop('Purchase', axis=1)"
   ]
  },
  {
   "cell_type": "code",
   "execution_count": 527,
   "metadata": {},
   "outputs": [],
   "source": [
    "data = df"
   ]
  },
  {
   "cell_type": "code",
   "execution_count": 528,
   "metadata": {},
   "outputs": [
    {
     "data": {
      "text/html": [
       "<div>\n",
       "<style scoped>\n",
       "    .dataframe tbody tr th:only-of-type {\n",
       "        vertical-align: middle;\n",
       "    }\n",
       "\n",
       "    .dataframe tbody tr th {\n",
       "        vertical-align: top;\n",
       "    }\n",
       "\n",
       "    .dataframe thead th {\n",
       "        text-align: right;\n",
       "    }\n",
       "</style>\n",
       "<table border=\"1\" class=\"dataframe\">\n",
       "  <thead>\n",
       "    <tr style=\"text-align: right;\">\n",
       "      <th></th>\n",
       "      <th>User_ID</th>\n",
       "      <th>Product_ID</th>\n",
       "      <th>Gender</th>\n",
       "      <th>Age</th>\n",
       "      <th>Occupation</th>\n",
       "      <th>City_Category</th>\n",
       "      <th>Stay_In_Current_City_Years</th>\n",
       "      <th>Marital_Status</th>\n",
       "      <th>Product_Category_1</th>\n",
       "      <th>Product_Category_2</th>\n",
       "      <th>Product_Category_3</th>\n",
       "    </tr>\n",
       "  </thead>\n",
       "  <tbody>\n",
       "    <tr>\n",
       "      <th>0</th>\n",
       "      <td>1000001</td>\n",
       "      <td>P00069042</td>\n",
       "      <td>F</td>\n",
       "      <td>0-17</td>\n",
       "      <td>10</td>\n",
       "      <td>A</td>\n",
       "      <td>2</td>\n",
       "      <td>0</td>\n",
       "      <td>3</td>\n",
       "      <td>NaN</td>\n",
       "      <td>NaN</td>\n",
       "    </tr>\n",
       "    <tr>\n",
       "      <th>1</th>\n",
       "      <td>1000001</td>\n",
       "      <td>P00248942</td>\n",
       "      <td>F</td>\n",
       "      <td>0-17</td>\n",
       "      <td>10</td>\n",
       "      <td>A</td>\n",
       "      <td>2</td>\n",
       "      <td>0</td>\n",
       "      <td>1</td>\n",
       "      <td>6.0</td>\n",
       "      <td>14.0</td>\n",
       "    </tr>\n",
       "    <tr>\n",
       "      <th>2</th>\n",
       "      <td>1000001</td>\n",
       "      <td>P00087842</td>\n",
       "      <td>F</td>\n",
       "      <td>0-17</td>\n",
       "      <td>10</td>\n",
       "      <td>A</td>\n",
       "      <td>2</td>\n",
       "      <td>0</td>\n",
       "      <td>12</td>\n",
       "      <td>NaN</td>\n",
       "      <td>NaN</td>\n",
       "    </tr>\n",
       "    <tr>\n",
       "      <th>3</th>\n",
       "      <td>1000001</td>\n",
       "      <td>P00085442</td>\n",
       "      <td>F</td>\n",
       "      <td>0-17</td>\n",
       "      <td>10</td>\n",
       "      <td>A</td>\n",
       "      <td>2</td>\n",
       "      <td>0</td>\n",
       "      <td>12</td>\n",
       "      <td>14.0</td>\n",
       "      <td>NaN</td>\n",
       "    </tr>\n",
       "    <tr>\n",
       "      <th>4</th>\n",
       "      <td>1000002</td>\n",
       "      <td>P00285442</td>\n",
       "      <td>M</td>\n",
       "      <td>55+</td>\n",
       "      <td>16</td>\n",
       "      <td>C</td>\n",
       "      <td>4+</td>\n",
       "      <td>0</td>\n",
       "      <td>8</td>\n",
       "      <td>NaN</td>\n",
       "      <td>NaN</td>\n",
       "    </tr>\n",
       "  </tbody>\n",
       "</table>\n",
       "</div>"
      ],
      "text/plain": [
       "   User_ID Product_ID Gender   Age  Occupation City_Category  \\\n",
       "0  1000001  P00069042      F  0-17          10             A   \n",
       "1  1000001  P00248942      F  0-17          10             A   \n",
       "2  1000001  P00087842      F  0-17          10             A   \n",
       "3  1000001  P00085442      F  0-17          10             A   \n",
       "4  1000002  P00285442      M   55+          16             C   \n",
       "\n",
       "  Stay_In_Current_City_Years  Marital_Status  Product_Category_1  \\\n",
       "0                          2               0                   3   \n",
       "1                          2               0                   1   \n",
       "2                          2               0                  12   \n",
       "3                          2               0                  12   \n",
       "4                         4+               0                   8   \n",
       "\n",
       "   Product_Category_2  Product_Category_3  \n",
       "0                 NaN                 NaN  \n",
       "1                 6.0                14.0  \n",
       "2                 NaN                 NaN  \n",
       "3                14.0                 NaN  \n",
       "4                 NaN                 NaN  "
      ]
     },
     "execution_count": 528,
     "metadata": {},
     "output_type": "execute_result"
    }
   ],
   "source": [
    "df.head()"
   ]
  },
  {
   "cell_type": "code",
   "execution_count": null,
   "metadata": {},
   "outputs": [],
   "source": []
  },
  {
   "cell_type": "code",
   "execution_count": 529,
   "metadata": {},
   "outputs": [],
   "source": [
    "df = df.compute() #Converting the dask.dataframe to pandas.dataframe\n",
    "df = df.drop(['User_ID', 'Product_ID'], axis= 1)\n",
    "# train test split\n",
    "from sklearn.model_selection import train_test_split\n",
    "X_train, X_test, y_train, y_test = train_test_split(df, y, test_size=0.2, random_state=31)"
   ]
  },
  {
   "cell_type": "code",
   "execution_count": 530,
   "metadata": {},
   "outputs": [
    {
     "data": {
      "text/html": [
       "<div>\n",
       "<style scoped>\n",
       "    .dataframe tbody tr th:only-of-type {\n",
       "        vertical-align: middle;\n",
       "    }\n",
       "\n",
       "    .dataframe tbody tr th {\n",
       "        vertical-align: top;\n",
       "    }\n",
       "\n",
       "    .dataframe thead th {\n",
       "        text-align: right;\n",
       "    }\n",
       "</style>\n",
       "<table border=\"1\" class=\"dataframe\">\n",
       "  <thead>\n",
       "    <tr style=\"text-align: right;\">\n",
       "      <th></th>\n",
       "      <th>Gender</th>\n",
       "      <th>Age</th>\n",
       "      <th>Occupation</th>\n",
       "      <th>City_Category</th>\n",
       "      <th>Stay_In_Current_City_Years</th>\n",
       "      <th>Marital_Status</th>\n",
       "      <th>Product_Category_1</th>\n",
       "      <th>Product_Category_2</th>\n",
       "      <th>Product_Category_3</th>\n",
       "    </tr>\n",
       "  </thead>\n",
       "  <tbody>\n",
       "    <tr>\n",
       "      <th>392608</th>\n",
       "      <td>M</td>\n",
       "      <td>26-35</td>\n",
       "      <td>17</td>\n",
       "      <td>A</td>\n",
       "      <td>3</td>\n",
       "      <td>0</td>\n",
       "      <td>13</td>\n",
       "      <td>16.0</td>\n",
       "      <td>NaN</td>\n",
       "    </tr>\n",
       "    <tr>\n",
       "      <th>11317</th>\n",
       "      <td>M</td>\n",
       "      <td>26-35</td>\n",
       "      <td>0</td>\n",
       "      <td>C</td>\n",
       "      <td>1</td>\n",
       "      <td>1</td>\n",
       "      <td>5</td>\n",
       "      <td>NaN</td>\n",
       "      <td>NaN</td>\n",
       "    </tr>\n",
       "    <tr>\n",
       "      <th>325090</th>\n",
       "      <td>M</td>\n",
       "      <td>18-25</td>\n",
       "      <td>4</td>\n",
       "      <td>B</td>\n",
       "      <td>4+</td>\n",
       "      <td>0</td>\n",
       "      <td>11</td>\n",
       "      <td>13.0</td>\n",
       "      <td>16.0</td>\n",
       "    </tr>\n",
       "    <tr>\n",
       "      <th>849</th>\n",
       "      <td>F</td>\n",
       "      <td>26-35</td>\n",
       "      <td>20</td>\n",
       "      <td>A</td>\n",
       "      <td>1</td>\n",
       "      <td>1</td>\n",
       "      <td>5</td>\n",
       "      <td>14.0</td>\n",
       "      <td>NaN</td>\n",
       "    </tr>\n",
       "    <tr>\n",
       "      <th>494721</th>\n",
       "      <td>M</td>\n",
       "      <td>26-35</td>\n",
       "      <td>0</td>\n",
       "      <td>B</td>\n",
       "      <td>4+</td>\n",
       "      <td>0</td>\n",
       "      <td>2</td>\n",
       "      <td>4.0</td>\n",
       "      <td>15.0</td>\n",
       "    </tr>\n",
       "    <tr>\n",
       "      <th>...</th>\n",
       "      <td>...</td>\n",
       "      <td>...</td>\n",
       "      <td>...</td>\n",
       "      <td>...</td>\n",
       "      <td>...</td>\n",
       "      <td>...</td>\n",
       "      <td>...</td>\n",
       "      <td>...</td>\n",
       "      <td>...</td>\n",
       "    </tr>\n",
       "    <tr>\n",
       "      <th>230202</th>\n",
       "      <td>M</td>\n",
       "      <td>46-50</td>\n",
       "      <td>1</td>\n",
       "      <td>B</td>\n",
       "      <td>1</td>\n",
       "      <td>1</td>\n",
       "      <td>6</td>\n",
       "      <td>8.0</td>\n",
       "      <td>10.0</td>\n",
       "    </tr>\n",
       "    <tr>\n",
       "      <th>462487</th>\n",
       "      <td>M</td>\n",
       "      <td>26-35</td>\n",
       "      <td>7</td>\n",
       "      <td>B</td>\n",
       "      <td>4+</td>\n",
       "      <td>0</td>\n",
       "      <td>8</td>\n",
       "      <td>17.0</td>\n",
       "      <td>NaN</td>\n",
       "    </tr>\n",
       "    <tr>\n",
       "      <th>211554</th>\n",
       "      <td>M</td>\n",
       "      <td>36-45</td>\n",
       "      <td>7</td>\n",
       "      <td>B</td>\n",
       "      <td>1</td>\n",
       "      <td>0</td>\n",
       "      <td>1</td>\n",
       "      <td>5.0</td>\n",
       "      <td>NaN</td>\n",
       "    </tr>\n",
       "    <tr>\n",
       "      <th>289662</th>\n",
       "      <td>M</td>\n",
       "      <td>26-35</td>\n",
       "      <td>7</td>\n",
       "      <td>A</td>\n",
       "      <td>1</td>\n",
       "      <td>0</td>\n",
       "      <td>5</td>\n",
       "      <td>NaN</td>\n",
       "      <td>NaN</td>\n",
       "    </tr>\n",
       "    <tr>\n",
       "      <th>419856</th>\n",
       "      <td>M</td>\n",
       "      <td>26-35</td>\n",
       "      <td>0</td>\n",
       "      <td>C</td>\n",
       "      <td>1</td>\n",
       "      <td>0</td>\n",
       "      <td>8</td>\n",
       "      <td>NaN</td>\n",
       "      <td>NaN</td>\n",
       "    </tr>\n",
       "  </tbody>\n",
       "</table>\n",
       "<p>440054 rows × 9 columns</p>\n",
       "</div>"
      ],
      "text/plain": [
       "       Gender    Age  Occupation City_Category Stay_In_Current_City_Years  \\\n",
       "392608      M  26-35          17             A                          3   \n",
       "11317       M  26-35           0             C                          1   \n",
       "325090      M  18-25           4             B                         4+   \n",
       "849         F  26-35          20             A                          1   \n",
       "494721      M  26-35           0             B                         4+   \n",
       "...       ...    ...         ...           ...                        ...   \n",
       "230202      M  46-50           1             B                          1   \n",
       "462487      M  26-35           7             B                         4+   \n",
       "211554      M  36-45           7             B                          1   \n",
       "289662      M  26-35           7             A                          1   \n",
       "419856      M  26-35           0             C                          1   \n",
       "\n",
       "        Marital_Status  Product_Category_1  Product_Category_2  \\\n",
       "392608               0                  13                16.0   \n",
       "11317                1                   5                 NaN   \n",
       "325090               0                  11                13.0   \n",
       "849                  1                   5                14.0   \n",
       "494721               0                   2                 4.0   \n",
       "...                ...                 ...                 ...   \n",
       "230202               1                   6                 8.0   \n",
       "462487               0                   8                17.0   \n",
       "211554               0                   1                 5.0   \n",
       "289662               0                   5                 NaN   \n",
       "419856               0                   8                 NaN   \n",
       "\n",
       "        Product_Category_3  \n",
       "392608                 NaN  \n",
       "11317                  NaN  \n",
       "325090                16.0  \n",
       "849                    NaN  \n",
       "494721                15.0  \n",
       "...                    ...  \n",
       "230202                10.0  \n",
       "462487                 NaN  \n",
       "211554                 NaN  \n",
       "289662                 NaN  \n",
       "419856                 NaN  \n",
       "\n",
       "[440054 rows x 9 columns]"
      ]
     },
     "execution_count": 530,
     "metadata": {},
     "output_type": "execute_result"
    }
   ],
   "source": [
    "X_train"
   ]
  },
  {
   "cell_type": "code",
   "execution_count": 531,
   "metadata": {},
   "outputs": [],
   "source": [
    "# Step 3: Use ColumnTransformer to apply the pipeline to selected columns\n",
    "preprocessor = ColumnTransformer(\n",
    "    transformers=[\n",
    "        ('gender_label_encoder', OE, ['Gender']),\n",
    "        ('OneHotEcoder', OHE, ['City_Category', 'Stay_In_Current_City_Years', 'Age']),\n",
    "        ('product_category', product_category_pipeline, ['Product_Category_1', 'Product_Category_2', 'Product_Category_3'])\n",
    "    ],\n",
    "    remainder='passthrough'\n",
    ")\n",
    "\n",
    "# Step 3: Define the full pipeline with StandardScaler applied to all columns after transformation\n",
    "full_pipeline = Pipeline(steps=[\n",
    "    # ('drop_columns', ColumnDropper(columns_to_drop=['User_ID', 'Product_ID'])),  # Drop unwanted columns\n",
    "    ('preprocessor', preprocessor),  # Apply ColumnTransformer to preprocess specific columns\n",
    "    ('scaler', SE)  # Apply StandardScaler to all numerical columns after preprocessing\n",
    "])"
   ]
  },
  {
   "cell_type": "code",
   "execution_count": 532,
   "metadata": {},
   "outputs": [
    {
     "name": "stderr",
     "output_type": "stream",
     "text": [
      "C:\\Users\\spurusho\\AppData\\Local\\Temp\\ipykernel_30632\\1549169543.py:20: FutureWarning: DataFrame.groupby with axis=1 is deprecated. Do `frame.T.groupby(...)` without axis instead.\n",
      "  df_one_hot = df_one_hot.groupby(lambda x: x.split('_')[-1], axis=1).sum()\n"
     ]
    }
   ],
   "source": [
    "# Step 4: Apply the ColumnTransformer\n",
    "X_train = full_pipeline.fit_transform(X_train)"
   ]
  },
  {
   "cell_type": "code",
   "execution_count": 533,
   "metadata": {},
   "outputs": [
    {
     "name": "stderr",
     "output_type": "stream",
     "text": [
      "C:\\Users\\spurusho\\AppData\\Local\\Temp\\ipykernel_30632\\1549169543.py:20: FutureWarning: DataFrame.groupby with axis=1 is deprecated. Do `frame.T.groupby(...)` without axis instead.\n",
      "  df_one_hot = df_one_hot.groupby(lambda x: x.split('_')[-1], axis=1).sum()\n"
     ]
    }
   ],
   "source": [
    "X_test = full_pipeline.transform(X_test)"
   ]
  },
  {
   "cell_type": "code",
   "execution_count": 534,
   "metadata": {},
   "outputs": [],
   "source": [
    "#  Gender  = 1\n",
    "# Age = 6\n",
    "#Occupation = 1\n",
    "#City_Category = 2\n",
    "# Stay_In_Current_City_Years = 4\n",
    "#Marital_Status = 1\n",
    "# product categorical = 12"
   ]
  },
  {
   "cell_type": "code",
   "execution_count": 535,
   "metadata": {},
   "outputs": [
    {
     "data": {
      "text/plain": [
       "array([ 0.,  0.,  0.,  0.,  1.,  0.,  0.,  0.,  0.,  0.,  0.,  0.,  0.,\n",
       "        2.,  0.,  0.,  0.,  0.,  0.,  0.,  0.,  0.,  0.,  0.,  0.,  0.,\n",
       "        0.,  1.,  0.,  0.,  0.,  0.,  0.,  0., 10.,  0.])"
      ]
     },
     "execution_count": 535,
     "metadata": {},
     "output_type": "execute_result"
    }
   ],
   "source": [
    "df_transformed[0, :]"
   ]
  },
  {
   "cell_type": "code",
   "execution_count": 536,
   "metadata": {},
   "outputs": [
    {
     "data": {
      "text/plain": [
       "array([ 0.57252378, -0.85126194, -0.6718338 , -0.73757482, -0.47693417,\n",
       "        2.18734447, -0.42700934, -0.47022018,  1.2271347 , -0.50017824,\n",
       "       -0.30118758, -0.27465423, -0.20146922, -0.01532204, -0.58547981,\n",
       "       -0.13568394, -0.28083886, -0.18753746,  4.95767954, -0.39739665,\n",
       "       -0.38889779,  2.32626528, -0.24293745, -0.14025074, -0.05384175,\n",
       "       -0.39166566, -0.06807679, -0.2122157 , -0.27733856, -0.73622018,\n",
       "       -0.28710016, -0.08917784, -0.72881125, -0.18239941,  1.36776869,\n",
       "       -0.8336348 ])"
      ]
     },
     "execution_count": 536,
     "metadata": {},
     "output_type": "execute_result"
    }
   ],
   "source": [
    "X_train[0, :]"
   ]
  },
  {
   "cell_type": "code",
   "execution_count": 542,
   "metadata": {},
   "outputs": [],
   "source": [
    "y = y.compute()"
   ]
  },
  {
   "cell_type": "code",
   "execution_count": 544,
   "metadata": {},
   "outputs": [
    {
     "data": {
      "text/plain": [
       "(550068,)"
      ]
     },
     "execution_count": 544,
     "metadata": {},
     "output_type": "execute_result"
    }
   ],
   "source": [
    "y.shape"
   ]
  },
  {
   "cell_type": "markdown",
   "metadata": {},
   "source": [
    "### Ok now we have the independent values and dependent values, now ready to train the model"
   ]
  },
  {
   "cell_type": "code",
   "execution_count": 548,
   "metadata": {},
   "outputs": [],
   "source": [
    "# Lets store the full_pipeline\n",
    "import pickle\n",
    "with open('models\\\\Full_Preprocessing.pkl', 'wb') as f:\n",
    "    pickle.dump(full_pipeline, f)\n",
    "    f.close()"
   ]
  },
  {
   "cell_type": "markdown",
   "metadata": {},
   "source": [
    "### Dask ML"
   ]
  },
  {
   "cell_type": "code",
   "execution_count": 551,
   "metadata": {},
   "outputs": [],
   "source": [
    "from dask.distributed import Client, LocalCluster\n",
    "cluster = LocalCluster()\n",
    "client = Client(cluster)"
   ]
  },
  {
   "cell_type": "code",
   "execution_count": 552,
   "metadata": {},
   "outputs": [
    {
     "data": {
      "text/plain": [
       "'http://127.0.0.1:8787/status'"
      ]
     },
     "execution_count": 552,
     "metadata": {},
     "output_type": "execute_result"
    }
   ],
   "source": [
    "cluster.dashboard_link"
   ]
  },
  {
   "cell_type": "code",
   "execution_count": 553,
   "metadata": {},
   "outputs": [
    {
     "data": {
      "text/html": [
       "\n",
       "    <details>\n",
       "    <summary style='display:list-item'>Cluster</summary>\n",
       "    \n",
       "    \n",
       "        <p style=\"font-family: monospace; margin: 0;\"></p>\n",
       "    \n",
       "\n",
       "    </details>\n",
       "\n",
       "    <details>\n",
       "    <summary style='display:list-item'>Scheduler</summary>\n",
       "    \n",
       "    \n",
       "        <p style=\"font-family: monospace; margin: 0;\">2024-10-07 00:48:21,859 - distributed.scheduler - INFO - Receive client connection: Client-c061ff04-8417-11ef-b7a8-e8d8d1e60ad2</p>\n",
       "    \n",
       "\n",
       "    \n",
       "        <p style=\"font-family: monospace; margin: 0;\">2024-10-07 00:48:21,813 - distributed.scheduler - INFO - Starting worker compute stream, tcp://127.0.0.1:61645</p>\n",
       "    \n",
       "\n",
       "    \n",
       "        <p style=\"font-family: monospace; margin: 0;\">2024-10-07 00:48:21,812 - distributed.scheduler - INFO - Register worker &lt;WorkerState &#x27;tcp://127.0.0.1:61645&#x27;, name: 3, status: running, memory: 0, processing: 0&gt;</p>\n",
       "    \n",
       "\n",
       "    \n",
       "        <p style=\"font-family: monospace; margin: 0;\">2024-10-07 00:48:21,812 - distributed.scheduler - INFO - Starting worker compute stream, tcp://127.0.0.1:61648</p>\n",
       "    \n",
       "\n",
       "    \n",
       "        <p style=\"font-family: monospace; margin: 0;\">2024-10-07 00:48:21,812 - distributed.scheduler - INFO - Register worker &lt;WorkerState &#x27;tcp://127.0.0.1:61648&#x27;, name: 1, status: running, memory: 0, processing: 0&gt;</p>\n",
       "    \n",
       "\n",
       "    \n",
       "        <p style=\"font-family: monospace; margin: 0;\">2024-10-07 00:48:21,810 - distributed.scheduler - INFO - Starting worker compute stream, tcp://127.0.0.1:61649</p>\n",
       "    \n",
       "\n",
       "    \n",
       "        <p style=\"font-family: monospace; margin: 0;\">2024-10-07 00:48:21,810 - distributed.scheduler - INFO - Register worker &lt;WorkerState &#x27;tcp://127.0.0.1:61649&#x27;, name: 0, status: running, memory: 0, processing: 0&gt;</p>\n",
       "    \n",
       "\n",
       "    \n",
       "        <p style=\"font-family: monospace; margin: 0;\">2024-10-07 00:48:21,810 - distributed.scheduler - INFO - Starting worker compute stream, tcp://127.0.0.1:61654</p>\n",
       "    \n",
       "\n",
       "    \n",
       "        <p style=\"font-family: monospace; margin: 0;\">2024-10-07 00:48:21,807 - distributed.scheduler - INFO - Register worker &lt;WorkerState &#x27;tcp://127.0.0.1:61654&#x27;, name: 2, status: running, memory: 0, processing: 0&gt;</p>\n",
       "    \n",
       "\n",
       "    \n",
       "        <p style=\"font-family: monospace; margin: 0;\">2024-10-07 00:48:17,902 - distributed.scheduler - INFO - Registering Worker plugin shuffle</p>\n",
       "    \n",
       "\n",
       "    \n",
       "        <p style=\"font-family: monospace; margin: 0;\">2024-10-07 00:48:17,901 - distributed.scheduler - INFO -   dashboard at:  http://127.0.0.1:8787/status</p>\n",
       "    \n",
       "\n",
       "    \n",
       "        <p style=\"font-family: monospace; margin: 0;\">2024-10-07 00:48:17,901 - distributed.scheduler - INFO -   Scheduler at:     tcp://127.0.0.1:61620</p>\n",
       "    \n",
       "\n",
       "    \n",
       "        <p style=\"font-family: monospace; margin: 0;\">2024-10-07 00:48:17,862 - distributed.scheduler - INFO - State start</p>\n",
       "    \n",
       "\n",
       "    </details>\n",
       "\n",
       "    <details>\n",
       "    <summary style='display:list-item'>tcp://127.0.0.1:61645</summary>\n",
       "    \n",
       "    \n",
       "        <p style=\"font-family: monospace; margin: 0;\">2024-10-07 00:48:21,813 - distributed.worker - INFO - -------------------------------------------------</p>\n",
       "    \n",
       "\n",
       "    \n",
       "        <p style=\"font-family: monospace; margin: 0;\">2024-10-07 00:48:21,813 - distributed.worker - INFO -         Registered to:      tcp://127.0.0.1:61620</p>\n",
       "    \n",
       "\n",
       "    \n",
       "        <p style=\"font-family: monospace; margin: 0;\">2024-10-07 00:48:21,813 - distributed.worker - INFO - Starting Worker plugin shuffle</p>\n",
       "    \n",
       "\n",
       "    \n",
       "        <p style=\"font-family: monospace; margin: 0;\">2024-10-07 00:48:20,471 - distributed.worker - INFO - -------------------------------------------------</p>\n",
       "    \n",
       "\n",
       "    \n",
       "        <p style=\"font-family: monospace; margin: 0;\">2024-10-07 00:48:20,471 - distributed.worker - INFO -       Local Directory: C:\\Users\\spurusho\\AppData\\Local\\Temp\\dask-scratch-space\\worker-0pc_g89y</p>\n",
       "    \n",
       "\n",
       "    \n",
       "        <p style=\"font-family: monospace; margin: 0;\">2024-10-07 00:48:20,471 - distributed.worker - INFO -                Memory:                   3.95 GiB</p>\n",
       "    \n",
       "\n",
       "    \n",
       "        <p style=\"font-family: monospace; margin: 0;\">2024-10-07 00:48:20,471 - distributed.worker - INFO -               Threads:                          2</p>\n",
       "    \n",
       "\n",
       "    \n",
       "        <p style=\"font-family: monospace; margin: 0;\">2024-10-07 00:48:20,471 - distributed.worker - INFO - -------------------------------------------------</p>\n",
       "    \n",
       "\n",
       "    \n",
       "        <p style=\"font-family: monospace; margin: 0;\">2024-10-07 00:48:20,471 - distributed.worker - INFO - Waiting to connect to:      tcp://127.0.0.1:61620</p>\n",
       "    \n",
       "\n",
       "    \n",
       "        <p style=\"font-family: monospace; margin: 0;\">2024-10-07 00:48:20,471 - distributed.worker - INFO -          dashboard at:            127.0.0.1:61646</p>\n",
       "    \n",
       "\n",
       "    \n",
       "        <p style=\"font-family: monospace; margin: 0;\">2024-10-07 00:48:20,471 - distributed.worker - INFO -           Worker name:                          3</p>\n",
       "    \n",
       "\n",
       "    \n",
       "        <p style=\"font-family: monospace; margin: 0;\">2024-10-07 00:48:20,471 - distributed.worker - INFO -          Listening to:      tcp://127.0.0.1:61645</p>\n",
       "    \n",
       "\n",
       "    \n",
       "        <p style=\"font-family: monospace; margin: 0;\">2024-10-07 00:48:20,471 - distributed.worker - INFO -       Start worker at:      tcp://127.0.0.1:61645</p>\n",
       "    \n",
       "\n",
       "    </details>\n",
       "\n",
       "    <details>\n",
       "    <summary style='display:list-item'>tcp://127.0.0.1:61648</summary>\n",
       "    \n",
       "    \n",
       "        <p style=\"font-family: monospace; margin: 0;\">2024-10-07 00:48:21,813 - distributed.worker - INFO - -------------------------------------------------</p>\n",
       "    \n",
       "\n",
       "    \n",
       "        <p style=\"font-family: monospace; margin: 0;\">2024-10-07 00:48:21,813 - distributed.worker - INFO -         Registered to:      tcp://127.0.0.1:61620</p>\n",
       "    \n",
       "\n",
       "    \n",
       "        <p style=\"font-family: monospace; margin: 0;\">2024-10-07 00:48:21,812 - distributed.worker - INFO - Starting Worker plugin shuffle</p>\n",
       "    \n",
       "\n",
       "    \n",
       "        <p style=\"font-family: monospace; margin: 0;\">2024-10-07 00:48:20,506 - distributed.worker - INFO - -------------------------------------------------</p>\n",
       "    \n",
       "\n",
       "    \n",
       "        <p style=\"font-family: monospace; margin: 0;\">2024-10-07 00:48:20,506 - distributed.worker - INFO -       Local Directory: C:\\Users\\spurusho\\AppData\\Local\\Temp\\dask-scratch-space\\worker-liav1f3m</p>\n",
       "    \n",
       "\n",
       "    \n",
       "        <p style=\"font-family: monospace; margin: 0;\">2024-10-07 00:48:20,506 - distributed.worker - INFO -                Memory:                   3.95 GiB</p>\n",
       "    \n",
       "\n",
       "    \n",
       "        <p style=\"font-family: monospace; margin: 0;\">2024-10-07 00:48:20,506 - distributed.worker - INFO -               Threads:                          2</p>\n",
       "    \n",
       "\n",
       "    \n",
       "        <p style=\"font-family: monospace; margin: 0;\">2024-10-07 00:48:20,506 - distributed.worker - INFO - -------------------------------------------------</p>\n",
       "    \n",
       "\n",
       "    \n",
       "        <p style=\"font-family: monospace; margin: 0;\">2024-10-07 00:48:20,506 - distributed.worker - INFO - Waiting to connect to:      tcp://127.0.0.1:61620</p>\n",
       "    \n",
       "\n",
       "    \n",
       "        <p style=\"font-family: monospace; margin: 0;\">2024-10-07 00:48:20,506 - distributed.worker - INFO -          dashboard at:            127.0.0.1:61650</p>\n",
       "    \n",
       "\n",
       "    \n",
       "        <p style=\"font-family: monospace; margin: 0;\">2024-10-07 00:48:20,506 - distributed.worker - INFO -           Worker name:                          1</p>\n",
       "    \n",
       "\n",
       "    \n",
       "        <p style=\"font-family: monospace; margin: 0;\">2024-10-07 00:48:20,506 - distributed.worker - INFO -          Listening to:      tcp://127.0.0.1:61648</p>\n",
       "    \n",
       "\n",
       "    \n",
       "        <p style=\"font-family: monospace; margin: 0;\">2024-10-07 00:48:20,506 - distributed.worker - INFO -       Start worker at:      tcp://127.0.0.1:61648</p>\n",
       "    \n",
       "\n",
       "    </details>\n",
       "\n",
       "    <details>\n",
       "    <summary style='display:list-item'>tcp://127.0.0.1:61649</summary>\n",
       "    \n",
       "    \n",
       "        <p style=\"font-family: monospace; margin: 0;\">2024-10-07 00:48:21,812 - distributed.worker - INFO - -------------------------------------------------</p>\n",
       "    \n",
       "\n",
       "    \n",
       "        <p style=\"font-family: monospace; margin: 0;\">2024-10-07 00:48:21,812 - distributed.worker - INFO -         Registered to:      tcp://127.0.0.1:61620</p>\n",
       "    \n",
       "\n",
       "    \n",
       "        <p style=\"font-family: monospace; margin: 0;\">2024-10-07 00:48:21,812 - distributed.worker - INFO - Starting Worker plugin shuffle</p>\n",
       "    \n",
       "\n",
       "    \n",
       "        <p style=\"font-family: monospace; margin: 0;\">2024-10-07 00:48:20,509 - distributed.worker - INFO - -------------------------------------------------</p>\n",
       "    \n",
       "\n",
       "    \n",
       "        <p style=\"font-family: monospace; margin: 0;\">2024-10-07 00:48:20,509 - distributed.worker - INFO -       Local Directory: C:\\Users\\spurusho\\AppData\\Local\\Temp\\dask-scratch-space\\worker-_rkxp9ds</p>\n",
       "    \n",
       "\n",
       "    \n",
       "        <p style=\"font-family: monospace; margin: 0;\">2024-10-07 00:48:20,508 - distributed.worker - INFO -                Memory:                   3.95 GiB</p>\n",
       "    \n",
       "\n",
       "    \n",
       "        <p style=\"font-family: monospace; margin: 0;\">2024-10-07 00:48:20,508 - distributed.worker - INFO -               Threads:                          2</p>\n",
       "    \n",
       "\n",
       "    \n",
       "        <p style=\"font-family: monospace; margin: 0;\">2024-10-07 00:48:20,508 - distributed.worker - INFO - -------------------------------------------------</p>\n",
       "    \n",
       "\n",
       "    \n",
       "        <p style=\"font-family: monospace; margin: 0;\">2024-10-07 00:48:20,508 - distributed.worker - INFO - Waiting to connect to:      tcp://127.0.0.1:61620</p>\n",
       "    \n",
       "\n",
       "    \n",
       "        <p style=\"font-family: monospace; margin: 0;\">2024-10-07 00:48:20,508 - distributed.worker - INFO -          dashboard at:            127.0.0.1:61652</p>\n",
       "    \n",
       "\n",
       "    \n",
       "        <p style=\"font-family: monospace; margin: 0;\">2024-10-07 00:48:20,508 - distributed.worker - INFO -           Worker name:                          0</p>\n",
       "    \n",
       "\n",
       "    \n",
       "        <p style=\"font-family: monospace; margin: 0;\">2024-10-07 00:48:20,508 - distributed.worker - INFO -          Listening to:      tcp://127.0.0.1:61649</p>\n",
       "    \n",
       "\n",
       "    \n",
       "        <p style=\"font-family: monospace; margin: 0;\">2024-10-07 00:48:20,508 - distributed.worker - INFO -       Start worker at:      tcp://127.0.0.1:61649</p>\n",
       "    \n",
       "\n",
       "    </details>\n",
       "\n",
       "    <details>\n",
       "    <summary style='display:list-item'>tcp://127.0.0.1:61654</summary>\n",
       "    \n",
       "    \n",
       "        <p style=\"font-family: monospace; margin: 0;\">2024-10-07 00:48:21,810 - distributed.worker - INFO - -------------------------------------------------</p>\n",
       "    \n",
       "\n",
       "    \n",
       "        <p style=\"font-family: monospace; margin: 0;\">2024-10-07 00:48:21,810 - distributed.worker - INFO -         Registered to:      tcp://127.0.0.1:61620</p>\n",
       "    \n",
       "\n",
       "    \n",
       "        <p style=\"font-family: monospace; margin: 0;\">2024-10-07 00:48:21,810 - distributed.worker - INFO - Starting Worker plugin shuffle</p>\n",
       "    \n",
       "\n",
       "    \n",
       "        <p style=\"font-family: monospace; margin: 0;\">2024-10-07 00:48:20,557 - distributed.worker - INFO - -------------------------------------------------</p>\n",
       "    \n",
       "\n",
       "    \n",
       "        <p style=\"font-family: monospace; margin: 0;\">2024-10-07 00:48:20,557 - distributed.worker - INFO -       Local Directory: C:\\Users\\spurusho\\AppData\\Local\\Temp\\dask-scratch-space\\worker-kro6yv4_</p>\n",
       "    \n",
       "\n",
       "    \n",
       "        <p style=\"font-family: monospace; margin: 0;\">2024-10-07 00:48:20,557 - distributed.worker - INFO -                Memory:                   3.95 GiB</p>\n",
       "    \n",
       "\n",
       "    \n",
       "        <p style=\"font-family: monospace; margin: 0;\">2024-10-07 00:48:20,557 - distributed.worker - INFO -               Threads:                          2</p>\n",
       "    \n",
       "\n",
       "    \n",
       "        <p style=\"font-family: monospace; margin: 0;\">2024-10-07 00:48:20,557 - distributed.worker - INFO - -------------------------------------------------</p>\n",
       "    \n",
       "\n",
       "    \n",
       "        <p style=\"font-family: monospace; margin: 0;\">2024-10-07 00:48:20,557 - distributed.worker - INFO - Waiting to connect to:      tcp://127.0.0.1:61620</p>\n",
       "    \n",
       "\n",
       "    \n",
       "        <p style=\"font-family: monospace; margin: 0;\">2024-10-07 00:48:20,557 - distributed.worker - INFO -          dashboard at:            127.0.0.1:61655</p>\n",
       "    \n",
       "\n",
       "    \n",
       "        <p style=\"font-family: monospace; margin: 0;\">2024-10-07 00:48:20,557 - distributed.worker - INFO -           Worker name:                          2</p>\n",
       "    \n",
       "\n",
       "    \n",
       "        <p style=\"font-family: monospace; margin: 0;\">2024-10-07 00:48:20,557 - distributed.worker - INFO -          Listening to:      tcp://127.0.0.1:61654</p>\n",
       "    \n",
       "\n",
       "    \n",
       "        <p style=\"font-family: monospace; margin: 0;\">2024-10-07 00:48:20,557 - distributed.worker - INFO -       Start worker at:      tcp://127.0.0.1:61654</p>\n",
       "    \n",
       "\n",
       "    </details>\n"
      ],
      "text/plain": [
       "{'Cluster': '',\n",
       " 'Scheduler': \"2024-10-07 00:48:21,859 - distributed.scheduler - INFO - Receive client connection: Client-c061ff04-8417-11ef-b7a8-e8d8d1e60ad2\\n2024-10-07 00:48:21,813 - distributed.scheduler - INFO - Starting worker compute stream, tcp://127.0.0.1:61645\\n2024-10-07 00:48:21,812 - distributed.scheduler - INFO - Register worker <WorkerState 'tcp://127.0.0.1:61645', name: 3, status: running, memory: 0, processing: 0>\\n2024-10-07 00:48:21,812 - distributed.scheduler - INFO - Starting worker compute stream, tcp://127.0.0.1:61648\\n2024-10-07 00:48:21,812 - distributed.scheduler - INFO - Register worker <WorkerState 'tcp://127.0.0.1:61648', name: 1, status: running, memory: 0, processing: 0>\\n2024-10-07 00:48:21,810 - distributed.scheduler - INFO - Starting worker compute stream, tcp://127.0.0.1:61649\\n2024-10-07 00:48:21,810 - distributed.scheduler - INFO - Register worker <WorkerState 'tcp://127.0.0.1:61649', name: 0, status: running, memory: 0, processing: 0>\\n2024-10-07 00:48:21,810 - distributed.scheduler - INFO - Starting worker compute stream, tcp://127.0.0.1:61654\\n2024-10-07 00:48:21,807 - distributed.scheduler - INFO - Register worker <WorkerState 'tcp://127.0.0.1:61654', name: 2, status: running, memory: 0, processing: 0>\\n2024-10-07 00:48:17,902 - distributed.scheduler - INFO - Registering Worker plugin shuffle\\n2024-10-07 00:48:17,901 - distributed.scheduler - INFO -   dashboard at:  http://127.0.0.1:8787/status\\n2024-10-07 00:48:17,901 - distributed.scheduler - INFO -   Scheduler at:     tcp://127.0.0.1:61620\\n2024-10-07 00:48:17,862 - distributed.scheduler - INFO - State start\",\n",
       " 'tcp://127.0.0.1:61645': '2024-10-07 00:48:21,813 - distributed.worker - INFO - -------------------------------------------------\\n2024-10-07 00:48:21,813 - distributed.worker - INFO -         Registered to:      tcp://127.0.0.1:61620\\n2024-10-07 00:48:21,813 - distributed.worker - INFO - Starting Worker plugin shuffle\\n2024-10-07 00:48:20,471 - distributed.worker - INFO - -------------------------------------------------\\n2024-10-07 00:48:20,471 - distributed.worker - INFO -       Local Directory: C:\\\\Users\\\\spurusho\\\\AppData\\\\Local\\\\Temp\\\\dask-scratch-space\\\\worker-0pc_g89y\\n2024-10-07 00:48:20,471 - distributed.worker - INFO -                Memory:                   3.95 GiB\\n2024-10-07 00:48:20,471 - distributed.worker - INFO -               Threads:                          2\\n2024-10-07 00:48:20,471 - distributed.worker - INFO - -------------------------------------------------\\n2024-10-07 00:48:20,471 - distributed.worker - INFO - Waiting to connect to:      tcp://127.0.0.1:61620\\n2024-10-07 00:48:20,471 - distributed.worker - INFO -          dashboard at:            127.0.0.1:61646\\n2024-10-07 00:48:20,471 - distributed.worker - INFO -           Worker name:                          3\\n2024-10-07 00:48:20,471 - distributed.worker - INFO -          Listening to:      tcp://127.0.0.1:61645\\n2024-10-07 00:48:20,471 - distributed.worker - INFO -       Start worker at:      tcp://127.0.0.1:61645',\n",
       " 'tcp://127.0.0.1:61648': '2024-10-07 00:48:21,813 - distributed.worker - INFO - -------------------------------------------------\\n2024-10-07 00:48:21,813 - distributed.worker - INFO -         Registered to:      tcp://127.0.0.1:61620\\n2024-10-07 00:48:21,812 - distributed.worker - INFO - Starting Worker plugin shuffle\\n2024-10-07 00:48:20,506 - distributed.worker - INFO - -------------------------------------------------\\n2024-10-07 00:48:20,506 - distributed.worker - INFO -       Local Directory: C:\\\\Users\\\\spurusho\\\\AppData\\\\Local\\\\Temp\\\\dask-scratch-space\\\\worker-liav1f3m\\n2024-10-07 00:48:20,506 - distributed.worker - INFO -                Memory:                   3.95 GiB\\n2024-10-07 00:48:20,506 - distributed.worker - INFO -               Threads:                          2\\n2024-10-07 00:48:20,506 - distributed.worker - INFO - -------------------------------------------------\\n2024-10-07 00:48:20,506 - distributed.worker - INFO - Waiting to connect to:      tcp://127.0.0.1:61620\\n2024-10-07 00:48:20,506 - distributed.worker - INFO -          dashboard at:            127.0.0.1:61650\\n2024-10-07 00:48:20,506 - distributed.worker - INFO -           Worker name:                          1\\n2024-10-07 00:48:20,506 - distributed.worker - INFO -          Listening to:      tcp://127.0.0.1:61648\\n2024-10-07 00:48:20,506 - distributed.worker - INFO -       Start worker at:      tcp://127.0.0.1:61648',\n",
       " 'tcp://127.0.0.1:61649': '2024-10-07 00:48:21,812 - distributed.worker - INFO - -------------------------------------------------\\n2024-10-07 00:48:21,812 - distributed.worker - INFO -         Registered to:      tcp://127.0.0.1:61620\\n2024-10-07 00:48:21,812 - distributed.worker - INFO - Starting Worker plugin shuffle\\n2024-10-07 00:48:20,509 - distributed.worker - INFO - -------------------------------------------------\\n2024-10-07 00:48:20,509 - distributed.worker - INFO -       Local Directory: C:\\\\Users\\\\spurusho\\\\AppData\\\\Local\\\\Temp\\\\dask-scratch-space\\\\worker-_rkxp9ds\\n2024-10-07 00:48:20,508 - distributed.worker - INFO -                Memory:                   3.95 GiB\\n2024-10-07 00:48:20,508 - distributed.worker - INFO -               Threads:                          2\\n2024-10-07 00:48:20,508 - distributed.worker - INFO - -------------------------------------------------\\n2024-10-07 00:48:20,508 - distributed.worker - INFO - Waiting to connect to:      tcp://127.0.0.1:61620\\n2024-10-07 00:48:20,508 - distributed.worker - INFO -          dashboard at:            127.0.0.1:61652\\n2024-10-07 00:48:20,508 - distributed.worker - INFO -           Worker name:                          0\\n2024-10-07 00:48:20,508 - distributed.worker - INFO -          Listening to:      tcp://127.0.0.1:61649\\n2024-10-07 00:48:20,508 - distributed.worker - INFO -       Start worker at:      tcp://127.0.0.1:61649',\n",
       " 'tcp://127.0.0.1:61654': '2024-10-07 00:48:21,810 - distributed.worker - INFO - -------------------------------------------------\\n2024-10-07 00:48:21,810 - distributed.worker - INFO -         Registered to:      tcp://127.0.0.1:61620\\n2024-10-07 00:48:21,810 - distributed.worker - INFO - Starting Worker plugin shuffle\\n2024-10-07 00:48:20,557 - distributed.worker - INFO - -------------------------------------------------\\n2024-10-07 00:48:20,557 - distributed.worker - INFO -       Local Directory: C:\\\\Users\\\\spurusho\\\\AppData\\\\Local\\\\Temp\\\\dask-scratch-space\\\\worker-kro6yv4_\\n2024-10-07 00:48:20,557 - distributed.worker - INFO -                Memory:                   3.95 GiB\\n2024-10-07 00:48:20,557 - distributed.worker - INFO -               Threads:                          2\\n2024-10-07 00:48:20,557 - distributed.worker - INFO - -------------------------------------------------\\n2024-10-07 00:48:20,557 - distributed.worker - INFO - Waiting to connect to:      tcp://127.0.0.1:61620\\n2024-10-07 00:48:20,557 - distributed.worker - INFO -          dashboard at:            127.0.0.1:61655\\n2024-10-07 00:48:20,557 - distributed.worker - INFO -           Worker name:                          2\\n2024-10-07 00:48:20,557 - distributed.worker - INFO -          Listening to:      tcp://127.0.0.1:61654\\n2024-10-07 00:48:20,557 - distributed.worker - INFO -       Start worker at:      tcp://127.0.0.1:61654'}"
      ]
     },
     "execution_count": 553,
     "metadata": {},
     "output_type": "execute_result"
    }
   ],
   "source": [
    "cluster.get_logs()"
   ]
  },
  {
   "cell_type": "code",
   "execution_count": 555,
   "metadata": {},
   "outputs": [],
   "source": [
    "cluster.scale(10) # Sets the number of workers to 10"
   ]
  },
  {
   "cell_type": "markdown",
   "metadata": {},
   "source": [
    "### Ok lets find the best parameters for the randomforest regressor"
   ]
  },
  {
   "cell_type": "code",
   "execution_count": 570,
   "metadata": {},
   "outputs": [],
   "source": []
  },
  {
   "cell_type": "code",
   "execution_count": 571,
   "metadata": {},
   "outputs": [],
   "source": [
    "# import dask_ml.joblib\n",
    "from sklearn.ensemble import RandomForestRegressor\n",
    "from joblib import parallel_backend\n",
    "with parallel_backend('dask'):\n",
    "    # Create the parameter grid based on the results of random search \n",
    "    param_grid = {\n",
    "    'max_depth': [4,5,6,7],\n",
    "    'max_features': [2, 3],\n",
    "    'n_estimators': [50, 100, 200],\n",
    "    'criterion': ['squared_error', 'absolute_error', 'friedman_mse', 'poisson']\n",
    "    }\n",
    "     \n",
    "    # Your normal scikit-learn code here\n",
    "    \n",
    "    model = RandomForestRegressor()"
   ]
  },
  {
   "cell_type": "code",
   "execution_count": 569,
   "metadata": {},
   "outputs": [],
   "source": [
    "# Install with pip\n",
    "# !pip install dask-searchcv"
   ]
  },
  {
   "cell_type": "code",
   "execution_count": 579,
   "metadata": {},
   "outputs": [],
   "source": [
    "# Convert pandas DataFrames to Dask DataFrames\n",
    "X_train_dask = dd.from_pandas(pd.DataFrame(X_train), npartitions=2)  # 2D array for features\n",
    "# y_train_dask = dd.from_pandas(pd.Series(y_train), npartitions=2).squeeze()  # Convert to DataFrame first and then squeeze to Series\n"
   ]
  },
  {
   "cell_type": "code",
   "execution_count": 581,
   "metadata": {},
   "outputs": [
    {
     "ename": "ModuleNotFoundError",
     "evalue": "No module named 'sklearn.metrics.scorer'",
     "output_type": "error",
     "traceback": [
      "\u001b[1;31m---------------------------------------------------------------------------\u001b[0m",
      "\u001b[1;31mModuleNotFoundError\u001b[0m                       Traceback (most recent call last)",
      "Cell \u001b[1;32mIn[581], line 2\u001b[0m\n\u001b[0;32m      1\u001b[0m \u001b[38;5;66;03m# Instantiate the grid search model\u001b[39;00m\n\u001b[1;32m----> 2\u001b[0m \u001b[38;5;28;01mimport\u001b[39;00m \u001b[38;5;21;01mdask_searchcv\u001b[39;00m \u001b[38;5;28;01mas\u001b[39;00m \u001b[38;5;21;01mdcv\u001b[39;00m\n\u001b[0;32m      3\u001b[0m grid_search \u001b[38;5;241m=\u001b[39m dcv\u001b[38;5;241m.\u001b[39mGridSearchCV(estimator \u001b[38;5;241m=\u001b[39m model, param_grid \u001b[38;5;241m=\u001b[39m param_grid, cv \u001b[38;5;241m=\u001b[39m \u001b[38;5;241m3\u001b[39m)\n\u001b[0;32m      4\u001b[0m grid_search\u001b[38;5;241m.\u001b[39mfit(X_train, y_train)\n",
      "File \u001b[1;32mc:\\Users\\spurusho\\Downloads\\NLP\\venv\\Lib\\site-packages\\dask_searchcv\\__init__.py:3\u001b[0m\n\u001b[0;32m      1\u001b[0m \u001b[38;5;28;01mfrom\u001b[39;00m \u001b[38;5;21;01m__future__\u001b[39;00m \u001b[38;5;28;01mimport\u001b[39;00m absolute_import\n\u001b[1;32m----> 3\u001b[0m \u001b[38;5;28;01mfrom\u001b[39;00m \u001b[38;5;21;01m.\u001b[39;00m\u001b[38;5;21;01mmodel_selection\u001b[39;00m \u001b[38;5;28;01mimport\u001b[39;00m GridSearchCV, RandomizedSearchCV\n\u001b[0;32m      5\u001b[0m \u001b[38;5;28;01mfrom\u001b[39;00m \u001b[38;5;21;01m.\u001b[39;00m\u001b[38;5;21;01m_version\u001b[39;00m \u001b[38;5;28;01mimport\u001b[39;00m get_versions\n\u001b[0;32m      6\u001b[0m __version__ \u001b[38;5;241m=\u001b[39m get_versions()[\u001b[38;5;124m'\u001b[39m\u001b[38;5;124mversion\u001b[39m\u001b[38;5;124m'\u001b[39m]\n",
      "File \u001b[1;32mc:\\Users\\spurusho\\Downloads\\NLP\\venv\\Lib\\site-packages\\dask_searchcv\\model_selection.py:18\u001b[0m\n\u001b[0;32m     16\u001b[0m \u001b[38;5;28;01mfrom\u001b[39;00m \u001b[38;5;21;01msklearn\u001b[39;00m\u001b[38;5;21;01m.\u001b[39;00m\u001b[38;5;21;01mbase\u001b[39;00m \u001b[38;5;28;01mimport\u001b[39;00m is_classifier, clone, BaseEstimator, MetaEstimatorMixin\n\u001b[0;32m     17\u001b[0m \u001b[38;5;28;01mfrom\u001b[39;00m \u001b[38;5;21;01msklearn\u001b[39;00m\u001b[38;5;21;01m.\u001b[39;00m\u001b[38;5;21;01mexceptions\u001b[39;00m \u001b[38;5;28;01mimport\u001b[39;00m NotFittedError\n\u001b[1;32m---> 18\u001b[0m \u001b[38;5;28;01mfrom\u001b[39;00m \u001b[38;5;21;01msklearn\u001b[39;00m\u001b[38;5;21;01m.\u001b[39;00m\u001b[38;5;21;01mmetrics\u001b[39;00m\u001b[38;5;21;01m.\u001b[39;00m\u001b[38;5;21;01mscorer\u001b[39;00m \u001b[38;5;28;01mimport\u001b[39;00m check_scoring\n\u001b[0;32m     19\u001b[0m \u001b[38;5;28;01mfrom\u001b[39;00m \u001b[38;5;21;01msklearn\u001b[39;00m\u001b[38;5;21;01m.\u001b[39;00m\u001b[38;5;21;01mmodel_selection\u001b[39;00m\u001b[38;5;21;01m.\u001b[39;00m\u001b[38;5;21;01m_search\u001b[39;00m \u001b[38;5;28;01mimport\u001b[39;00m _check_param_grid, BaseSearchCV\n\u001b[0;32m     20\u001b[0m \u001b[38;5;28;01mfrom\u001b[39;00m \u001b[38;5;21;01msklearn\u001b[39;00m\u001b[38;5;21;01m.\u001b[39;00m\u001b[38;5;21;01mmodel_selection\u001b[39;00m\u001b[38;5;21;01m.\u001b[39;00m\u001b[38;5;21;01m_split\u001b[39;00m \u001b[38;5;28;01mimport\u001b[39;00m (_BaseKFold,\n\u001b[0;32m     21\u001b[0m                                             BaseShuffleSplit,\n\u001b[0;32m     22\u001b[0m                                             KFold,\n\u001b[1;32m   (...)\u001b[0m\n\u001b[0;32m     28\u001b[0m                                             PredefinedSplit,\n\u001b[0;32m     29\u001b[0m                                             _CVIterableWrapper)\n",
      "\u001b[1;31mModuleNotFoundError\u001b[0m: No module named 'sklearn.metrics.scorer'"
     ]
    }
   ],
   "source": [
    "# Instantiate the grid search model\n",
    "import dask_searchcv as dcv\n",
    "grid_search = dcv.GridSearchCV(estimator = model, param_grid = param_grid, cv = 3)\n",
    "grid_search.fit(X_train, y_train)\n",
    "grid_search.best_params_"
   ]
  },
  {
   "cell_type": "code",
   "execution_count": null,
   "metadata": {},
   "outputs": [],
   "source": []
  }
 ],
 "metadata": {
  "kernelspec": {
   "display_name": "venv",
   "language": "python",
   "name": "python3"
  },
  "language_info": {
   "codemirror_mode": {
    "name": "ipython",
    "version": 3
   },
   "file_extension": ".py",
   "mimetype": "text/x-python",
   "name": "python",
   "nbconvert_exporter": "python",
   "pygments_lexer": "ipython3",
   "version": "3.12.5"
  }
 },
 "nbformat": 4,
 "nbformat_minor": 2
}
