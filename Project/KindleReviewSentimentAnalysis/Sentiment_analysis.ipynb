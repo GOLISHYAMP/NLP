{
 "cells": [
  {
   "cell_type": "markdown",
   "metadata": {},
   "source": [
    "Acknowledgements This dataset is taken from Amazon product data, Julian McAuley, UCSD website. http://jmcauley.ucsd.edu/data/amazon/\n",
    "\n",
    "License to the data files belong to them.\n",
    "\n",
    "Inspiration\n",
    "\n",
    "Sentiment analysis on reviews.\\\n",
    "Understanding how people rate usefulness of a review/ What factors influence helpfulness of a review.\n",
    "Fake reviews/ outliers.\\\n",
    "Best rated product IDs, or similarity between products based on reviews alone (not the best idea ikr).\\\n",
    "Any other interesting analysis\\\n",
    "Best Practises\n",
    "* Preprocessing And Cleaning\n",
    "* Train Test Split\n",
    "* BOW,TFIDF,Word2vec\n",
    "* Train ML algorithms"
   ]
  },
  {
   "cell_type": "code",
   "execution_count": null,
   "metadata": {},
   "outputs": [],
   "source": []
  }
 ],
 "metadata": {
  "language_info": {
   "name": "python"
  }
 },
 "nbformat": 4,
 "nbformat_minor": 2
}
