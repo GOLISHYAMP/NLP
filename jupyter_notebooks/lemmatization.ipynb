{
 "cells": [
  {
   "cell_type": "markdown",
   "metadata": {},
   "source": [
    "### Lemmatization is the techinue of find the root word called 'lemma'"
   ]
  },
  {
   "cell_type": "code",
   "execution_count": 1,
   "metadata": {},
   "outputs": [],
   "source": [
    "from nltk.stem import WordNetLemmatizer\n",
    "lemmatizer = WordNetLemmatizer()"
   ]
  },
  {
   "cell_type": "code",
   "execution_count": 3,
   "metadata": {},
   "outputs": [
    {
     "name": "stderr",
     "output_type": "stream",
     "text": [
      "[nltk_data] Downloading package wordnet to\n",
      "[nltk_data]     C:\\Users\\spurusho\\AppData\\Roaming\\nltk_data...\n"
     ]
    },
    {
     "data": {
      "text/plain": [
       "True"
      ]
     },
     "execution_count": 3,
     "metadata": {},
     "output_type": "execute_result"
    }
   ],
   "source": [
    "import nltk\n",
    "nltk.download('wordnet')"
   ]
  },
  {
   "cell_type": "code",
   "execution_count": 9,
   "metadata": {},
   "outputs": [
    {
     "data": {
      "text/plain": [
       "'congratulations'"
      ]
     },
     "execution_count": 9,
     "metadata": {},
     "output_type": "execute_result"
    }
   ],
   "source": [
    "lemmatizer.lemmatize('congratulations', pos='v')"
   ]
  },
  {
   "cell_type": "code",
   "execution_count": 10,
   "metadata": {},
   "outputs": [],
   "source": [
    "words = ['eaten','eats','eating', 'writing','writes','programming','programs','history','finally','finalized']"
   ]
  },
  {
   "cell_type": "code",
   "execution_count": null,
   "metadata": {},
   "outputs": [],
   "source": [
    "'''\n",
    "POS\n",
    "noun = n\n",
    "verb = v\n",
    "adverb = r\n",
    "adjective = a\n",
    "'''"
   ]
  },
  {
   "cell_type": "code",
   "execution_count": 17,
   "metadata": {},
   "outputs": [
    {
     "name": "stdout",
     "output_type": "stream",
     "text": [
      "eaten ------> eaten\n",
      "eats ------> eats\n",
      "eating ------> eating\n",
      "writing ------> writing\n",
      "writes ------> writes\n",
      "programming ------> programming\n",
      "programs ------> program\n",
      "history ------> history\n",
      "finally ------> finally\n",
      "finalized ------> finalized\n"
     ]
    }
   ],
   "source": [
    "# By defauld lemmatize pos will be noun n\n",
    "for word in words:\n",
    "    print(word,'------>',lemmatizer.lemmatize(word))"
   ]
  },
  {
   "cell_type": "code",
   "execution_count": 18,
   "metadata": {},
   "outputs": [
    {
     "name": "stdout",
     "output_type": "stream",
     "text": [
      "eaten ------> eat\n",
      "eats ------> eat\n",
      "eating ------> eat\n",
      "writing ------> write\n",
      "writes ------> write\n",
      "programming ------> program\n",
      "programs ------> program\n",
      "history ------> history\n",
      "finally ------> finally\n",
      "finalized ------> finalize\n"
     ]
    }
   ],
   "source": [
    "for word in words:\n",
    "    print(word,'------>',lemmatizer.lemmatize(word, pos='v'))"
   ]
  },
  {
   "cell_type": "code",
   "execution_count": 19,
   "metadata": {},
   "outputs": [
    {
     "name": "stdout",
     "output_type": "stream",
     "text": [
      "eaten ------> eaten\n",
      "eats ------> eats\n",
      "eating ------> eating\n",
      "writing ------> writing\n",
      "writes ------> writes\n",
      "programming ------> programming\n",
      "programs ------> programs\n",
      "history ------> history\n",
      "finally ------> finally\n",
      "finalized ------> finalized\n"
     ]
    }
   ],
   "source": [
    "for word in words:\n",
    "    print(word,'------>',lemmatizer.lemmatize(word, pos='r'))"
   ]
  },
  {
   "cell_type": "code",
   "execution_count": 20,
   "metadata": {},
   "outputs": [
    {
     "name": "stdout",
     "output_type": "stream",
     "text": [
      "eaten ------> eaten\n",
      "eats ------> eats\n",
      "eating ------> eating\n",
      "writing ------> writing\n",
      "writes ------> writes\n",
      "programming ------> programming\n",
      "programs ------> programs\n",
      "history ------> history\n",
      "finally ------> finally\n",
      "finalized ------> finalized\n"
     ]
    }
   ],
   "source": [
    "for word in words:\n",
    "    print(word,'------>',lemmatizer.lemmatize(word, pos='a'))"
   ]
  },
  {
   "cell_type": "code",
   "execution_count": null,
   "metadata": {},
   "outputs": [],
   "source": []
  }
 ],
 "metadata": {
  "kernelspec": {
   "display_name": "venv",
   "language": "python",
   "name": "python3"
  },
  "language_info": {
   "codemirror_mode": {
    "name": "ipython",
    "version": 3
   },
   "file_extension": ".py",
   "mimetype": "text/x-python",
   "name": "python",
   "nbconvert_exporter": "python",
   "pygments_lexer": "ipython3",
   "version": "3.12.5"
  }
 },
 "nbformat": 4,
 "nbformat_minor": 2
}
