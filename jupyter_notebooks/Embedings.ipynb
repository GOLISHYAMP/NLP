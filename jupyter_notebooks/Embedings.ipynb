{
 "cells": [
  {
   "cell_type": "code",
   "execution_count": 35,
   "metadata": {},
   "outputs": [],
   "source": [
    "from tensorflow.keras.preprocessing.text import one_hot"
   ]
  },
  {
   "cell_type": "code",
   "execution_count": 36,
   "metadata": {},
   "outputs": [],
   "source": [
    "# sentences\n",
    "sent = [\n",
    "    'the glass of milk',\n",
    "    'the glass of juice',\n",
    "    'the cup of tea',\n",
    "    'I am a good boy',\n",
    "    'I am a good developer',\n",
    "    'understand the meaning of words',\n",
    "    'your videos are good'\n",
    "]"
   ]
  },
  {
   "cell_type": "code",
   "execution_count": 37,
   "metadata": {},
   "outputs": [],
   "source": [
    "# Define a vocabulary size\n",
    "voc_size = 10000"
   ]
  },
  {
   "cell_type": "code",
   "execution_count": 38,
   "metadata": {},
   "outputs": [
    {
     "data": {
      "text/plain": [
       "[[2512, 5888, 3264, 933],\n",
       " [2512, 5888, 3264, 1709],\n",
       " [2512, 124, 3264, 5111],\n",
       " [2332, 9755, 272, 866, 958],\n",
       " [2332, 9755, 272, 866, 2832],\n",
       " [7113, 2512, 6044, 3264, 7126],\n",
       " [1370, 7470, 4756, 866]]"
      ]
     },
     "execution_count": 38,
     "metadata": {},
     "output_type": "execute_result"
    }
   ],
   "source": [
    "one_hot_rep = [one_hot(words, voc_size) for words in sent]\n",
    "one_hot_rep"
   ]
  },
  {
   "cell_type": "code",
   "execution_count": 39,
   "metadata": {},
   "outputs": [],
   "source": [
    "from tensorflow.keras.layers import Embedding\n",
    "from tensorflow.keras.preprocessing.sequence import pad_sequences\n",
    "from tensorflow.keras.models import Sequential"
   ]
  },
  {
   "cell_type": "code",
   "execution_count": 40,
   "metadata": {},
   "outputs": [],
   "source": [
    "import numpy as np"
   ]
  },
  {
   "cell_type": "code",
   "execution_count": 41,
   "metadata": {},
   "outputs": [],
   "source": [
    "# Since each sentence is having the different length, we should\n",
    "# make it same.\n",
    "sent_length = 5\n",
    "# since i know the max lenght of sentences is 5 so i decided to\n",
    "# go with 8, we do padding if the length is less then 8.\n",
    "# Padding is just adding zero at initail or back to make same length\n",
    "\n",
    "embedded_docs = pad_sequences(one_hot_rep, padding='pre', maxlen=sent_length)"
   ]
  },
  {
   "cell_type": "code",
   "execution_count": 42,
   "metadata": {},
   "outputs": [
    {
     "data": {
      "text/plain": [
       "array([[   0, 2512, 5888, 3264,  933],\n",
       "       [   0, 2512, 5888, 3264, 1709],\n",
       "       [   0, 2512,  124, 3264, 5111],\n",
       "       [2332, 9755,  272,  866,  958],\n",
       "       [2332, 9755,  272,  866, 2832],\n",
       "       [7113, 2512, 6044, 3264, 7126],\n",
       "       [   0, 1370, 7470, 4756,  866]])"
      ]
     },
     "execution_count": 42,
     "metadata": {},
     "output_type": "execute_result"
    }
   ],
   "source": [
    "embedded_docs"
   ]
  },
  {
   "cell_type": "code",
   "execution_count": 43,
   "metadata": {},
   "outputs": [],
   "source": [
    "## Feature Representations\n",
    "dim = 10"
   ]
  },
  {
   "cell_type": "code",
   "execution_count": 44,
   "metadata": {},
   "outputs": [],
   "source": [
    "model = Sequential()\n",
    "model.add(Embedding(voc_size, dim, input_length = sent_length))\n",
    "model.compile('adam','mse')"
   ]
  },
  {
   "cell_type": "code",
   "execution_count": 45,
   "metadata": {},
   "outputs": [
    {
     "data": {
      "text/html": [
       "<pre style=\"white-space:pre;overflow-x:auto;line-height:normal;font-family:Menlo,'DejaVu Sans Mono',consolas,'Courier New',monospace\"><span style=\"font-weight: bold\">Model: \"sequential_2\"</span>\n",
       "</pre>\n"
      ],
      "text/plain": [
       "\u001b[1mModel: \"sequential_2\"\u001b[0m\n"
      ]
     },
     "metadata": {},
     "output_type": "display_data"
    },
    {
     "data": {
      "text/html": [
       "<pre style=\"white-space:pre;overflow-x:auto;line-height:normal;font-family:Menlo,'DejaVu Sans Mono',consolas,'Courier New',monospace\">┏━━━━━━━━━━━━━━━━━━━━━━━━━━━━━━━━━┳━━━━━━━━━━━━━━━━━━━━━━━━┳━━━━━━━━━━━━━━━┓\n",
       "┃<span style=\"font-weight: bold\"> Layer (type)                    </span>┃<span style=\"font-weight: bold\"> Output Shape           </span>┃<span style=\"font-weight: bold\">       Param # </span>┃\n",
       "┡━━━━━━━━━━━━━━━━━━━━━━━━━━━━━━━━━╇━━━━━━━━━━━━━━━━━━━━━━━━╇━━━━━━━━━━━━━━━┩\n",
       "│ embedding_2 (<span style=\"color: #0087ff; text-decoration-color: #0087ff\">Embedding</span>)         │ ?                      │   <span style=\"color: #00af00; text-decoration-color: #00af00\">0</span> (unbuilt) │\n",
       "└─────────────────────────────────┴────────────────────────┴───────────────┘\n",
       "</pre>\n"
      ],
      "text/plain": [
       "┏━━━━━━━━━━━━━━━━━━━━━━━━━━━━━━━━━┳━━━━━━━━━━━━━━━━━━━━━━━━┳━━━━━━━━━━━━━━━┓\n",
       "┃\u001b[1m \u001b[0m\u001b[1mLayer (type)                   \u001b[0m\u001b[1m \u001b[0m┃\u001b[1m \u001b[0m\u001b[1mOutput Shape          \u001b[0m\u001b[1m \u001b[0m┃\u001b[1m \u001b[0m\u001b[1m      Param #\u001b[0m\u001b[1m \u001b[0m┃\n",
       "┡━━━━━━━━━━━━━━━━━━━━━━━━━━━━━━━━━╇━━━━━━━━━━━━━━━━━━━━━━━━╇━━━━━━━━━━━━━━━┩\n",
       "│ embedding_2 (\u001b[38;5;33mEmbedding\u001b[0m)         │ ?                      │   \u001b[38;5;34m0\u001b[0m (unbuilt) │\n",
       "└─────────────────────────────────┴────────────────────────┴───────────────┘\n"
      ]
     },
     "metadata": {},
     "output_type": "display_data"
    },
    {
     "data": {
      "text/html": [
       "<pre style=\"white-space:pre;overflow-x:auto;line-height:normal;font-family:Menlo,'DejaVu Sans Mono',consolas,'Courier New',monospace\"><span style=\"font-weight: bold\"> Total params: </span><span style=\"color: #00af00; text-decoration-color: #00af00\">0</span> (0.00 B)\n",
       "</pre>\n"
      ],
      "text/plain": [
       "\u001b[1m Total params: \u001b[0m\u001b[38;5;34m0\u001b[0m (0.00 B)\n"
      ]
     },
     "metadata": {},
     "output_type": "display_data"
    },
    {
     "data": {
      "text/html": [
       "<pre style=\"white-space:pre;overflow-x:auto;line-height:normal;font-family:Menlo,'DejaVu Sans Mono',consolas,'Courier New',monospace\"><span style=\"font-weight: bold\"> Trainable params: </span><span style=\"color: #00af00; text-decoration-color: #00af00\">0</span> (0.00 B)\n",
       "</pre>\n"
      ],
      "text/plain": [
       "\u001b[1m Trainable params: \u001b[0m\u001b[38;5;34m0\u001b[0m (0.00 B)\n"
      ]
     },
     "metadata": {},
     "output_type": "display_data"
    },
    {
     "data": {
      "text/html": [
       "<pre style=\"white-space:pre;overflow-x:auto;line-height:normal;font-family:Menlo,'DejaVu Sans Mono',consolas,'Courier New',monospace\"><span style=\"font-weight: bold\"> Non-trainable params: </span><span style=\"color: #00af00; text-decoration-color: #00af00\">0</span> (0.00 B)\n",
       "</pre>\n"
      ],
      "text/plain": [
       "\u001b[1m Non-trainable params: \u001b[0m\u001b[38;5;34m0\u001b[0m (0.00 B)\n"
      ]
     },
     "metadata": {},
     "output_type": "display_data"
    }
   ],
   "source": [
    "model.summary()"
   ]
  },
  {
   "cell_type": "code",
   "execution_count": 46,
   "metadata": {},
   "outputs": [
    {
     "name": "stdout",
     "output_type": "stream",
     "text": [
      "WARNING:tensorflow:5 out of the last 7 calls to <function TensorFlowTrainer.make_predict_function.<locals>.one_step_on_data_distributed at 0x000002B8C5AC2DE0> triggered tf.function retracing. Tracing is expensive and the excessive number of tracings could be due to (1) creating @tf.function repeatedly in a loop, (2) passing tensors with different shapes, (3) passing Python objects instead of tensors. For (1), please define your @tf.function outside of the loop. For (2), @tf.function has reduce_retracing=True option that can avoid unnecessary retracing. For (3), please refer to https://www.tensorflow.org/guide/function#controlling_retracing and https://www.tensorflow.org/api_docs/python/tf/function for  more details.\n",
      "\u001b[1m1/1\u001b[0m \u001b[32m━━━━━━━━━━━━━━━━━━━━\u001b[0m\u001b[37m\u001b[0m \u001b[1m0s\u001b[0m 238ms/step\n"
     ]
    },
    {
     "data": {
      "text/plain": [
       "array([[[ 0.03796433, -0.02105994,  0.00047394, -0.0461508 ,\n",
       "         -0.01381866, -0.00927627, -0.00800209, -0.03391074,\n",
       "          0.018596  ,  0.03711988],\n",
       "        [-0.04187528, -0.02948151,  0.01628942, -0.0353852 ,\n",
       "          0.03604111,  0.02625746, -0.04531336,  0.03974028,\n",
       "         -0.02721913, -0.01055152],\n",
       "        [ 0.02881299, -0.03609649,  0.00358299, -0.02808828,\n",
       "          0.0326626 , -0.01106644,  0.0219037 , -0.03350867,\n",
       "         -0.00408806, -0.03924178],\n",
       "        [ 0.02230309,  0.01595172, -0.04419747, -0.04105239,\n",
       "         -0.01885412,  0.0359889 ,  0.02800893,  0.01285565,\n",
       "         -0.0149624 , -0.01744633],\n",
       "        [ 0.00022529,  0.01794595, -0.04516739, -0.01180711,\n",
       "         -0.01684733,  0.00111877, -0.0101616 ,  0.03926667,\n",
       "         -0.03638357,  0.02069675]],\n",
       "\n",
       "       [[ 0.03796433, -0.02105994,  0.00047394, -0.0461508 ,\n",
       "         -0.01381866, -0.00927627, -0.00800209, -0.03391074,\n",
       "          0.018596  ,  0.03711988],\n",
       "        [-0.04187528, -0.02948151,  0.01628942, -0.0353852 ,\n",
       "          0.03604111,  0.02625746, -0.04531336,  0.03974028,\n",
       "         -0.02721913, -0.01055152],\n",
       "        [ 0.02881299, -0.03609649,  0.00358299, -0.02808828,\n",
       "          0.0326626 , -0.01106644,  0.0219037 , -0.03350867,\n",
       "         -0.00408806, -0.03924178],\n",
       "        [ 0.02230309,  0.01595172, -0.04419747, -0.04105239,\n",
       "         -0.01885412,  0.0359889 ,  0.02800893,  0.01285565,\n",
       "         -0.0149624 , -0.01744633],\n",
       "        [ 0.0423311 , -0.04766845,  0.04825247,  0.02393204,\n",
       "         -0.02339037,  0.02929498,  0.03099534, -0.03595312,\n",
       "         -0.00040425, -0.00587451]],\n",
       "\n",
       "       [[ 0.03796433, -0.02105994,  0.00047394, -0.0461508 ,\n",
       "         -0.01381866, -0.00927627, -0.00800209, -0.03391074,\n",
       "          0.018596  ,  0.03711988],\n",
       "        [-0.04187528, -0.02948151,  0.01628942, -0.0353852 ,\n",
       "          0.03604111,  0.02625746, -0.04531336,  0.03974028,\n",
       "         -0.02721913, -0.01055152],\n",
       "        [ 0.04686343, -0.0242301 ,  0.02356123, -0.0156306 ,\n",
       "         -0.04252258, -0.0302253 , -0.04386139,  0.0022211 ,\n",
       "         -0.01957357,  0.01008557],\n",
       "        [ 0.02230309,  0.01595172, -0.04419747, -0.04105239,\n",
       "         -0.01885412,  0.0359889 ,  0.02800893,  0.01285565,\n",
       "         -0.0149624 , -0.01744633],\n",
       "        [ 0.04598555, -0.02034414, -0.01024935,  0.00056058,\n",
       "         -0.00734819, -0.02560028, -0.04614469, -0.02900522,\n",
       "         -0.01392859,  0.00941857]],\n",
       "\n",
       "       [[-0.03240851,  0.02107516,  0.00806596, -0.00235739,\n",
       "         -0.01057182,  0.005906  , -0.02383856,  0.01143774,\n",
       "         -0.0285094 , -0.02481726],\n",
       "        [ 0.0441375 ,  0.00414231, -0.02287444,  0.01420647,\n",
       "         -0.04263097,  0.02969604, -0.04598086,  0.02919277,\n",
       "         -0.02403048, -0.01608356],\n",
       "        [ 0.01806687,  0.04530201, -0.03834574, -0.04066529,\n",
       "         -0.04279763,  0.02356699,  0.04211542, -0.00887611,\n",
       "          0.02985298,  0.0214895 ],\n",
       "        [-0.02602259, -0.03550123,  0.03031934, -0.0397783 ,\n",
       "          0.03653057,  0.04895918, -0.03165229, -0.03059241,\n",
       "         -0.03153255,  0.01251275],\n",
       "        [-0.03845972,  0.00397825,  0.01027077,  0.03272872,\n",
       "         -0.01892556,  0.03129   , -0.04301429, -0.00107238,\n",
       "          0.00410985,  0.01732374]],\n",
       "\n",
       "       [[-0.03240851,  0.02107516,  0.00806596, -0.00235739,\n",
       "         -0.01057182,  0.005906  , -0.02383856,  0.01143774,\n",
       "         -0.0285094 , -0.02481726],\n",
       "        [ 0.0441375 ,  0.00414231, -0.02287444,  0.01420647,\n",
       "         -0.04263097,  0.02969604, -0.04598086,  0.02919277,\n",
       "         -0.02403048, -0.01608356],\n",
       "        [ 0.01806687,  0.04530201, -0.03834574, -0.04066529,\n",
       "         -0.04279763,  0.02356699,  0.04211542, -0.00887611,\n",
       "          0.02985298,  0.0214895 ],\n",
       "        [-0.02602259, -0.03550123,  0.03031934, -0.0397783 ,\n",
       "          0.03653057,  0.04895918, -0.03165229, -0.03059241,\n",
       "         -0.03153255,  0.01251275],\n",
       "        [-0.00870752,  0.0112784 , -0.03647957,  0.0071481 ,\n",
       "          0.02922305,  0.03176551,  0.04216439, -0.01474538,\n",
       "         -0.03400892, -0.01550477]],\n",
       "\n",
       "       [[-0.03702866,  0.01329399,  0.01384523,  0.02312399,\n",
       "         -0.04330371,  0.03018384, -0.02098385,  0.02486208,\n",
       "         -0.02363998, -0.02867204],\n",
       "        [-0.04187528, -0.02948151,  0.01628942, -0.0353852 ,\n",
       "          0.03604111,  0.02625746, -0.04531336,  0.03974028,\n",
       "         -0.02721913, -0.01055152],\n",
       "        [ 0.03777153,  0.01183403, -0.02225577, -0.01041438,\n",
       "          0.02418545,  0.0088505 , -0.00937989,  0.02099961,\n",
       "         -0.03927344, -0.02347907],\n",
       "        [ 0.02230309,  0.01595172, -0.04419747, -0.04105239,\n",
       "         -0.01885412,  0.0359889 ,  0.02800893,  0.01285565,\n",
       "         -0.0149624 , -0.01744633],\n",
       "        [-0.02500341,  0.02030474, -0.02881747,  0.01775137,\n",
       "         -0.02827462, -0.04101818, -0.04566944,  0.0157007 ,\n",
       "         -0.04859553, -0.00117669]],\n",
       "\n",
       "       [[ 0.03796433, -0.02105994,  0.00047394, -0.0461508 ,\n",
       "         -0.01381866, -0.00927627, -0.00800209, -0.03391074,\n",
       "          0.018596  ,  0.03711988],\n",
       "        [-0.04932113,  0.0227094 ,  0.02224621,  0.00550131,\n",
       "         -0.02143425, -0.03759974, -0.04340943, -0.03945474,\n",
       "          0.01721427,  0.04877075],\n",
       "        [ 0.02205563,  0.02706311,  0.01230018,  0.02298706,\n",
       "         -0.03333038,  0.00082332, -0.0374375 ,  0.03642154,\n",
       "         -0.02772992, -0.00419297],\n",
       "        [-0.03338533,  0.01122775, -0.00849395, -0.01253945,\n",
       "          0.00687499,  0.01488191,  0.0050655 , -0.00574388,\n",
       "         -0.02464947, -0.02553959],\n",
       "        [-0.02602259, -0.03550123,  0.03031934, -0.0397783 ,\n",
       "          0.03653057,  0.04895918, -0.03165229, -0.03059241,\n",
       "         -0.03153255,  0.01251275]]], dtype=float32)"
      ]
     },
     "execution_count": 46,
     "metadata": {},
     "output_type": "execute_result"
    }
   ],
   "source": [
    "model.predict(embedded_docs)"
   ]
  },
  {
   "cell_type": "code",
   "execution_count": 47,
   "metadata": {},
   "outputs": [
    {
     "data": {
      "text/html": [
       "<pre style=\"white-space:pre;overflow-x:auto;line-height:normal;font-family:Menlo,'DejaVu Sans Mono',consolas,'Courier New',monospace\"><span style=\"font-weight: bold\">Model: \"sequential_2\"</span>\n",
       "</pre>\n"
      ],
      "text/plain": [
       "\u001b[1mModel: \"sequential_2\"\u001b[0m\n"
      ]
     },
     "metadata": {},
     "output_type": "display_data"
    },
    {
     "data": {
      "text/html": [
       "<pre style=\"white-space:pre;overflow-x:auto;line-height:normal;font-family:Menlo,'DejaVu Sans Mono',consolas,'Courier New',monospace\">┏━━━━━━━━━━━━━━━━━━━━━━━━━━━━━━━━━┳━━━━━━━━━━━━━━━━━━━━━━━━┳━━━━━━━━━━━━━━━┓\n",
       "┃<span style=\"font-weight: bold\"> Layer (type)                    </span>┃<span style=\"font-weight: bold\"> Output Shape           </span>┃<span style=\"font-weight: bold\">       Param # </span>┃\n",
       "┡━━━━━━━━━━━━━━━━━━━━━━━━━━━━━━━━━╇━━━━━━━━━━━━━━━━━━━━━━━━╇━━━━━━━━━━━━━━━┩\n",
       "│ embedding_2 (<span style=\"color: #0087ff; text-decoration-color: #0087ff\">Embedding</span>)         │ (<span style=\"color: #00af00; text-decoration-color: #00af00\">7</span>, <span style=\"color: #00af00; text-decoration-color: #00af00\">5</span>, <span style=\"color: #00af00; text-decoration-color: #00af00\">10</span>)             │       <span style=\"color: #00af00; text-decoration-color: #00af00\">100,000</span> │\n",
       "└─────────────────────────────────┴────────────────────────┴───────────────┘\n",
       "</pre>\n"
      ],
      "text/plain": [
       "┏━━━━━━━━━━━━━━━━━━━━━━━━━━━━━━━━━┳━━━━━━━━━━━━━━━━━━━━━━━━┳━━━━━━━━━━━━━━━┓\n",
       "┃\u001b[1m \u001b[0m\u001b[1mLayer (type)                   \u001b[0m\u001b[1m \u001b[0m┃\u001b[1m \u001b[0m\u001b[1mOutput Shape          \u001b[0m\u001b[1m \u001b[0m┃\u001b[1m \u001b[0m\u001b[1m      Param #\u001b[0m\u001b[1m \u001b[0m┃\n",
       "┡━━━━━━━━━━━━━━━━━━━━━━━━━━━━━━━━━╇━━━━━━━━━━━━━━━━━━━━━━━━╇━━━━━━━━━━━━━━━┩\n",
       "│ embedding_2 (\u001b[38;5;33mEmbedding\u001b[0m)         │ (\u001b[38;5;34m7\u001b[0m, \u001b[38;5;34m5\u001b[0m, \u001b[38;5;34m10\u001b[0m)             │       \u001b[38;5;34m100,000\u001b[0m │\n",
       "└─────────────────────────────────┴────────────────────────┴───────────────┘\n"
      ]
     },
     "metadata": {},
     "output_type": "display_data"
    },
    {
     "data": {
      "text/html": [
       "<pre style=\"white-space:pre;overflow-x:auto;line-height:normal;font-family:Menlo,'DejaVu Sans Mono',consolas,'Courier New',monospace\"><span style=\"font-weight: bold\"> Total params: </span><span style=\"color: #00af00; text-decoration-color: #00af00\">100,000</span> (390.62 KB)\n",
       "</pre>\n"
      ],
      "text/plain": [
       "\u001b[1m Total params: \u001b[0m\u001b[38;5;34m100,000\u001b[0m (390.62 KB)\n"
      ]
     },
     "metadata": {},
     "output_type": "display_data"
    },
    {
     "data": {
      "text/html": [
       "<pre style=\"white-space:pre;overflow-x:auto;line-height:normal;font-family:Menlo,'DejaVu Sans Mono',consolas,'Courier New',monospace\"><span style=\"font-weight: bold\"> Trainable params: </span><span style=\"color: #00af00; text-decoration-color: #00af00\">100,000</span> (390.62 KB)\n",
       "</pre>\n"
      ],
      "text/plain": [
       "\u001b[1m Trainable params: \u001b[0m\u001b[38;5;34m100,000\u001b[0m (390.62 KB)\n"
      ]
     },
     "metadata": {},
     "output_type": "display_data"
    },
    {
     "data": {
      "text/html": [
       "<pre style=\"white-space:pre;overflow-x:auto;line-height:normal;font-family:Menlo,'DejaVu Sans Mono',consolas,'Courier New',monospace\"><span style=\"font-weight: bold\"> Non-trainable params: </span><span style=\"color: #00af00; text-decoration-color: #00af00\">0</span> (0.00 B)\n",
       "</pre>\n"
      ],
      "text/plain": [
       "\u001b[1m Non-trainable params: \u001b[0m\u001b[38;5;34m0\u001b[0m (0.00 B)\n"
      ]
     },
     "metadata": {},
     "output_type": "display_data"
    }
   ],
   "source": [
    "model.summary()"
   ]
  },
  {
   "cell_type": "code",
   "execution_count": 48,
   "metadata": {},
   "outputs": [
    {
     "name": "stdout",
     "output_type": "stream",
     "text": [
      "WARNING:tensorflow:6 out of the last 8 calls to <function TensorFlowTrainer.make_predict_function.<locals>.one_step_on_data_distributed at 0x000002B8C5AC2DE0> triggered tf.function retracing. Tracing is expensive and the excessive number of tracings could be due to (1) creating @tf.function repeatedly in a loop, (2) passing tensors with different shapes, (3) passing Python objects instead of tensors. For (1), please define your @tf.function outside of the loop. For (2), @tf.function has reduce_retracing=True option that can avoid unnecessary retracing. For (3), please refer to https://www.tensorflow.org/guide/function#controlling_retracing and https://www.tensorflow.org/api_docs/python/tf/function for  more details.\n",
      "\u001b[1m1/1\u001b[0m \u001b[32m━━━━━━━━━━━━━━━━━━━━\u001b[0m\u001b[37m\u001b[0m \u001b[1m0s\u001b[0m 107ms/step\n"
     ]
    },
    {
     "data": {
      "text/plain": [
       "array([[[ 0.03796433, -0.02105994,  0.00047394, -0.0461508 ,\n",
       "         -0.01381866, -0.00927627, -0.00800209, -0.03391074,\n",
       "          0.018596  ,  0.03711988],\n",
       "        [-0.04187528, -0.02948151,  0.01628942, -0.0353852 ,\n",
       "          0.03604111,  0.02625746, -0.04531336,  0.03974028,\n",
       "         -0.02721913, -0.01055152],\n",
       "        [ 0.02881299, -0.03609649,  0.00358299, -0.02808828,\n",
       "          0.0326626 , -0.01106644,  0.0219037 , -0.03350867,\n",
       "         -0.00408806, -0.03924178],\n",
       "        [ 0.02230309,  0.01595172, -0.04419747, -0.04105239,\n",
       "         -0.01885412,  0.0359889 ,  0.02800893,  0.01285565,\n",
       "         -0.0149624 , -0.01744633],\n",
       "        [ 0.00022529,  0.01794595, -0.04516739, -0.01180711,\n",
       "         -0.01684733,  0.00111877, -0.0101616 ,  0.03926667,\n",
       "         -0.03638357,  0.02069675]]], dtype=float32)"
      ]
     },
     "execution_count": 48,
     "metadata": {},
     "output_type": "execute_result"
    }
   ],
   "source": [
    "model.predict(embedded_docs[[0]])"
   ]
  },
  {
   "cell_type": "code",
   "execution_count": 49,
   "metadata": {},
   "outputs": [
    {
     "name": "stdout",
     "output_type": "stream",
     "text": [
      "\u001b[1m1/1\u001b[0m \u001b[32m━━━━━━━━━━━━━━━━━━━━\u001b[0m\u001b[37m\u001b[0m \u001b[1m0s\u001b[0m 53ms/step\n"
     ]
    },
    {
     "data": {
      "text/plain": [
       "(1, 5, 10)"
      ]
     },
     "execution_count": 49,
     "metadata": {},
     "output_type": "execute_result"
    }
   ],
   "source": [
    "output = model.predict(embedded_docs[[0]])\n",
    "output.shape"
   ]
  },
  {
   "cell_type": "code",
   "execution_count": 50,
   "metadata": {},
   "outputs": [],
   "source": [
    "# So here this embeding model internally using word2vec model to convert the words to numbers"
   ]
  }
 ],
 "metadata": {
  "kernelspec": {
   "display_name": "venv",
   "language": "python",
   "name": "python3"
  },
  "language_info": {
   "codemirror_mode": {
    "name": "ipython",
    "version": 3
   },
   "file_extension": ".py",
   "mimetype": "text/x-python",
   "name": "python",
   "nbconvert_exporter": "python",
   "pygments_lexer": "ipython3",
   "version": "3.12.5"
  }
 },
 "nbformat": 4,
 "nbformat_minor": 2
}
